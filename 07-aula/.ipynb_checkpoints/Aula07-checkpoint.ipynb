{
 "cells": [
  {
   "cell_type": "markdown",
   "metadata": {},
   "source": [
    "# Algotrading - Aula 7\n",
    "\n",
    "Simulando Ordens\n",
    "___\n"
   ]
  },
  {
   "cell_type": "code",
   "execution_count": 1,
   "metadata": {},
   "outputs": [],
   "source": [
    "%matplotlib inline\n",
    "\n",
    "import numpy as np\n",
    "import pandas as pd\n",
    "import matplotlib.pyplot as plt\n",
    "import time\n",
    "from datetime import datetime\n",
    "import random\n",
    "\n",
    "# Para fazer o backtesting\n",
    "from backtesting_v2_1 import TradingSystem, Order, Strategy, Event"
   ]
  },
  {
   "cell_type": "markdown",
   "metadata": {},
   "source": [
    "Primeiramente vamos criar uma função auxiliar para imprimir o book atual do simulador:"
   ]
  },
  {
   "cell_type": "code",
   "execution_count": 2,
   "metadata": {},
   "outputs": [],
   "source": [
    "def bookprint(book):\n",
    "    print('BOOK:')\n",
    "    if book.bid is not None:\n",
    "        print('Bid: {}@{}'.format(book.bid.quantity, book.bid.price))\n",
    "    if book.ask is not None:\n",
    "        print('Ask: {}@{}'.format(book.ask.quantity, book.ask.price))"
   ]
  },
  {
   "cell_type": "markdown",
   "metadata": {},
   "source": [
    "Agora uma estratégia dummy só para ver o preenchimento das ordens:"
   ]
  },
  {
   "cell_type": "code",
   "execution_count": 3,
   "metadata": {},
   "outputs": [],
   "source": [
    "class Dummy(Strategy):\n",
    "    \n",
    "    def receive(self, event):\n",
    "        pass\n",
    "    \n",
    "    # Função que captura o preenchimento das ordens enviadas pela estratégia\n",
    "    # Toda vez que uma order é preenchida, ela é disparada\n",
    "    def fill(self, id, instrument, price, quantity, status):\n",
    "        \n",
    "        print('{} order filled: {}@{}'.format(instrument, quantity, price))        "
   ]
  },
  {
   "cell_type": "markdown",
   "metadata": {},
   "source": [
    "Desta vez faremos a simulação um pouco diferente, vamos criar um book manualmente ao invés de injetar preços:"
   ]
  },
  {
   "cell_type": "code",
   "execution_count": 4,
   "metadata": {},
   "outputs": [
    {
     "name": "stdout",
     "output_type": "stream",
     "text": [
      "BOOK:\n"
     ]
    }
   ],
   "source": [
    "instrument = 'Instrumento'\n",
    "\n",
    "# Criando um Trading System\n",
    "ts = TradingSystem()\n",
    "\n",
    "# Criando um Book\n",
    "ts.createBook(instrument)\n",
    "\n",
    "# Criando uma Estratégia Genérica\n",
    "strat = Dummy()\n",
    "\n",
    "# Criar uma Strategy vazia\n",
    "ts.subscribe(instrument, strat)\n",
    "\n",
    "# Imprimindo o book vazio\n",
    "bookprint(ts.books[instrument])"
   ]
  },
  {
   "cell_type": "markdown",
   "metadata": {},
   "source": [
    "Injetando manualmente uma oferta de compra e uma oferta de venda no simulador:"
   ]
  },
  {
   "cell_type": "code",
   "execution_count": 5,
   "metadata": {},
   "outputs": [
    {
     "name": "stdout",
     "output_type": "stream",
     "text": [
      "BOOK:\n",
      "Bid: 100@10\n",
      "Ask: 100@11\n"
     ]
    }
   ],
   "source": [
    "# Injetando eventos\n",
    "ts.inject(Event(instrument, datetime.now, Event.BID, 10, 100)) # BID 100@10\n",
    "ts.inject(Event(instrument, datetime.now, Event.ASK, 11, 100)) # ASK 100@11\n",
    "\n",
    "# Imprimindo o book agora com ofertas\n",
    "bookprint(ts.books[instrument])"
   ]
  },
  {
   "cell_type": "markdown",
   "metadata": {},
   "source": [
    "Verificando o preenchimento de uma ordem enviada também manualmente:"
   ]
  },
  {
   "cell_type": "code",
   "execution_count": 6,
   "metadata": {},
   "outputs": [
    {
     "name": "stdout",
     "output_type": "stream",
     "text": [
      "Instrumento order filled: 100@11\n",
      "{'Instrumento': 100}\n"
     ]
    }
   ],
   "source": [
    "# Enviando uma compra de 200@MKT\n",
    "ts.submit(strat.id, Order(instrument, Order.B, 200, 0))\n",
    "\n",
    "# Imprimindo a posição da estratégia\n",
    "print(strat._trade.position)"
   ]
  },
  {
   "cell_type": "markdown",
   "metadata": {},
   "source": [
    "Por que a posição é de apenas 100 se a ordem foi de 200?\n",
    "\n",
    "Possíveis soluções:\n",
    "\n",
    "- Fatiar a ordem em pequenos pedaços que caibam na fila e não afetem muito o mercado\n",
    "- Deixar a ordem limitada, esperando que apareçam os compradores\n",
    "___\n",
    "\n",
    "Zerando a posição a MKT:"
   ]
  },
  {
   "cell_type": "code",
   "execution_count": 7,
   "metadata": {},
   "outputs": [
    {
     "name": "stdout",
     "output_type": "stream",
     "text": [
      "Instrumento order filled: -100@10\n",
      "{}\n"
     ]
    }
   ],
   "source": [
    "ts.submit(strat.id, Order(instrument, Order.S, strat._trade.position[instrument], 0))\n",
    "print(strat._trade.position)"
   ]
  },
  {
   "cell_type": "code",
   "execution_count": 8,
   "metadata": {},
   "outputs": [
    {
     "name": "stdout",
     "output_type": "stream",
     "text": [
      "BOOK:\n",
      "Bid: 100@10\n",
      "Ask: 100@11\n"
     ]
    }
   ],
   "source": [
    "bookprint(ts.books[instrument])"
   ]
  },
  {
   "cell_type": "markdown",
   "metadata": {},
   "source": [
    "Enviando então uma ordem limitada no preço de 10.5"
   ]
  },
  {
   "cell_type": "code",
   "execution_count": 9,
   "metadata": {},
   "outputs": [
    {
     "name": "stdout",
     "output_type": "stream",
     "text": [
      "{}\n"
     ]
    }
   ],
   "source": [
    "ts.submit(strat.id, Order(instrument, Order.B, 100, 10.5))\n",
    "print(strat._trade.position)"
   ]
  },
  {
   "cell_type": "markdown",
   "metadata": {},
   "source": [
    "Como percebido, ela não preencheu e ficou pendente, ao contrário da market que foi cancelada. Vamos ver como está o mercado pelos eventos:"
   ]
  },
  {
   "cell_type": "code",
   "execution_count": 10,
   "metadata": {},
   "outputs": [
    {
     "name": "stdout",
     "output_type": "stream",
     "text": [
      "BOOK:\n",
      "Bid: 100@10\n",
      "Ask: 100@11\n"
     ]
    }
   ],
   "source": [
    "# Imprimindo o book de ofertas\n",
    "bookprint(ts.books[instrument])"
   ]
  },
  {
   "cell_type": "markdown",
   "metadata": {},
   "source": [
    "Nota: A ordem da estratégia NÃO COMPÕE a fila! Caso contrário ela criaria distorções na simulação que faria com que o Backtesting fosse invalidado.\n",
    "\n",
    "Mandando um novo evento para a fila, a ordem pendente é preenchida:"
   ]
  },
  {
   "cell_type": "code",
   "execution_count": 11,
   "metadata": {},
   "outputs": [
    {
     "name": "stdout",
     "output_type": "stream",
     "text": [
      "Instrumento order filled: 100@10.5\n"
     ]
    }
   ],
   "source": [
    "ts.inject(Event(instrument, datetime.now, Event.ASK, 10.5, 100))"
   ]
  },
  {
   "cell_type": "markdown",
   "metadata": {},
   "source": [
    "___\n",
    "\n",
    "### Stop Order\n",
    "\n",
    "Conforme já explicado anteriormente, Stop order tem por objetivo comprar ou vender quando o preço atinge um certo alvo.\n",
    "\n",
    "Se quiser comprar, o preço alvo precisa ser maior que o preço atual e vice-versa.\n",
    "\n",
    "Vamos ver como fica a simulação de uma stop order:"
   ]
  },
  {
   "cell_type": "code",
   "execution_count": null,
   "metadata": {},
   "outputs": [],
   "source": [
    "ts = TradingSystem()\n",
    "ts.createBook(instrument)\n",
    "\n",
    "class StopPuro(Strategy):\n",
    "    \n",
    "    def receive(self, event):\n",
    "        \n",
    "        # Se houve um evento de trade\n",
    "        if event.type == Event.TRADE:\n",
    "            \n",
    "            # se o preço do evento for menor que um alvo\n",
    "            if event.price <= 9.0:\n",
    "                \n",
    "                # vende a mercado\n",
    "                print('Stop Puro disparado!')\n",
    "                self.submit(self.id, Order(instrument, Order.S, 100, 0))\n",
    "            \n",
    "    def fill(self, id, instrument, price, quantity, status):\n",
    "        \n",
    "        print('{} order filled: {}@{}'.format(instrument, quantity, price))\n",
    "\n",
    "        \n",
    "stop = StopPuro()\n",
    "ts.subscribe(instrument, stop)"
   ]
  },
  {
   "cell_type": "code",
   "execution_count": null,
   "metadata": {},
   "outputs": [],
   "source": [
    "# Formação do mercado:\n",
    "\n",
    "ts.inject(Event(instrument, datetime.now, Event.BID, 9, 100))\n",
    "ts.inject(Event(instrument, datetime.now, Event.ASK, 10, 100))\n",
    "\n",
    "bookprint(ts.books[instrument])"
   ]
  },
  {
   "cell_type": "code",
   "execution_count": null,
   "metadata": {},
   "outputs": [],
   "source": [
    "# Simula um evento de trade no preço alvo do stop\n",
    "\n",
    "ts.inject(Event(instrument, datetime.now, Event.TRADE, 9, 100))"
   ]
  },
  {
   "cell_type": "markdown",
   "metadata": {},
   "source": [
    "Problema: Uma ordem de stop sofre dos mesmos problemas de uma ordem a mercado\n",
    "\n",
    "- Compra/Vende no preço que estiver na fila\n",
    "- Não preenche tudo se a fila não suportar a quantidade\n",
    "\n",
    "Vamos simular:"
   ]
  },
  {
   "cell_type": "code",
   "execution_count": null,
   "metadata": {},
   "outputs": [],
   "source": [
    "# Nesse exemplo saiu um trade no preço alvo (9), mas a fila ficou limpa e a próxima compra está apenas no 7:\n",
    "\n",
    "ts.inject(Event(instrument, datetime.now, Event.BID, 7, 100))\n",
    "ts.inject(Event(instrument, datetime.now, Event.TRADE, 9, 100))"
   ]
  },
  {
   "cell_type": "markdown",
   "metadata": {},
   "source": [
    "Não pareceu um bom negócio, vendeu a 7 o que deveria ter vendido a 9.\n",
    "\n",
    "Vamos analisar algumas soluções:"
   ]
  },
  {
   "cell_type": "markdown",
   "metadata": {},
   "source": [
    "#### Solução 1: Stop Limit\n",
    "\n",
    "É análogo ao Stop, mas envia uma ordem limitada."
   ]
  },
  {
   "cell_type": "code",
   "execution_count": null,
   "metadata": {},
   "outputs": [],
   "source": [
    "ts = TradingSystem()\n",
    "ts.createBook(instrument)\n",
    "\n",
    "class StopLimit(Strategy):\n",
    "    \n",
    "    def receive(self, event):\n",
    "        if event.type == Event.TRADE:\n",
    "            if event.price <= 8.5:\n",
    "                print('Stop Limit disparado!')\n",
    "                self.submit(self.id, Order(instrument, Order.SS, 100, 8.5))\n",
    "            \n",
    "    def fill(self, id, instrument, price, quantity, status):\n",
    "        \n",
    "        print('{} order filled: {}@{}'.format(instrument, quantity, price))\n",
    "\n",
    "        \n",
    "stoplmt = StopLimit()\n",
    "ts.subscribe(instrument, stoplmt)"
   ]
  },
  {
   "cell_type": "markdown",
   "metadata": {},
   "source": [
    "Situação idealizada: quando sai um trade, imagina-se que sobram ofertas ainda no preço alvo"
   ]
  },
  {
   "cell_type": "code",
   "execution_count": null,
   "metadata": {},
   "outputs": [],
   "source": [
    "ts.inject(Event(instrument, datetime.now, Event.BID, 8.5, 200))\n",
    "ts.inject(Event(instrument, datetime.now, Event.TRADE, 8.5, 100))"
   ]
  },
  {
   "cell_type": "markdown",
   "metadata": {},
   "source": [
    "Na prática: um stop muito longo é disparado quando o mercado de move muito rapidamente, deixando a fila com buracos:"
   ]
  },
  {
   "cell_type": "code",
   "execution_count": null,
   "metadata": {},
   "outputs": [],
   "source": [
    "ts.inject(Event(instrument, datetime.now, Event.BID, 8, 100))\n",
    "ts.inject(Event(instrument, datetime.now, Event.TRADE, 8.5, 100))"
   ]
  },
  {
   "cell_type": "markdown",
   "metadata": {},
   "source": [
    "Nota que a situação acima pode ser pior que a do stop normal. Se o mercado continuar caindo, vai continuar exposto e não ter fechado a posição, tendo que zerar a carteira em um preço pior ainda.\n",
    "___\n",
    "\n",
    "Caso o mercado seja **bondoso** e volte, a ordem preenche:"
   ]
  },
  {
   "cell_type": "code",
   "execution_count": null,
   "metadata": {},
   "outputs": [],
   "source": [
    "ts.inject(Event(instrument, datetime.now, Event.BID, 8.5, 100))"
   ]
  },
  {
   "cell_type": "markdown",
   "metadata": {},
   "source": [
    "Existe ainda uma situação tão complicada quanto ao vácuo acima. Muitas vezes a fila flutua sem haver operações. Por exemplo o bid o ask vão abaixo consistentemente e nenhuma operação é registrada. Quando acontecer algum trade, pode ser que seja tarde demais para agir. Pense sobre isso.\n",
    "\n",
    "___\n",
    "\n",
    "#### Solução 2: Stop com trigger no bid ou ask\n",
    "\n",
    "Ao passo que o stop convencional está disponível abundantemente em plataformas, esse tipo de stop é mais preciso, porém normalmente é preciso programar sua própria ordem\n",
    "\n",
    "A única diferença é que não é preciso esperar acontecer uma operação no preço alvo para executar o stop, se o mercado espremer na fila, não espera a catástrofe, saia."
   ]
  },
  {
   "cell_type": "code",
   "execution_count": null,
   "metadata": {},
   "outputs": [],
   "source": [
    "ts = TradingSystem()\n",
    "ts.createBook(instrument)\n",
    "\n",
    "class StopLimitv2(Strategy):\n",
    "    \n",
    "    def receive(self, event):\n",
    "        \n",
    "        # Análogo ao anterior, mas olha para o BID e não o TRADE\n",
    "        if event.type == Event.BID:\n",
    "            \n",
    "            if event.price <= 9.0:\n",
    "                print('Stop Limit v2 disparado!')\n",
    "                self.submit(self.id, Order(instrument, Order.SS, 100, event.price))\n",
    "            \n",
    "    def fill(self, id, instrument, price, quantity, status):\n",
    "        \n",
    "        print('{} order filled: {}@{}'.format(instrument, quantity, price))\n",
    "\n",
    "        \n",
    "stoplmt2 = StopLimitv2()\n",
    "ts.subscribe(instrument, stoplmt2)"
   ]
  },
  {
   "cell_type": "code",
   "execution_count": null,
   "metadata": {},
   "outputs": [],
   "source": [
    "ts.inject(Event(instrument, datetime.now, Event.BID, 9.2, 100))"
   ]
  },
  {
   "cell_type": "code",
   "execution_count": null,
   "metadata": {},
   "outputs": [],
   "source": [
    "ts.inject(Event(instrument, datetime.now, Event.BID, 9.1, 100))"
   ]
  },
  {
   "cell_type": "code",
   "execution_count": null,
   "metadata": {},
   "outputs": [],
   "source": [
    "ts.inject(Event(instrument, datetime.now, Event.BID, 9.0, 100))"
   ]
  },
  {
   "cell_type": "markdown",
   "metadata": {},
   "source": [
    "Parece bom, contudo ainda tem problemas:\n",
    "\n",
    "* Não garante transição suave e sem saltos, poderia ir para o 8 diretamente em dia de mercado volátil.\n",
    "* A quantidade pode ser insuficiente\n",
    "___\n",
    "\n",
    "### Stop móvel\n",
    "\n",
    "Uma outra forma de realizar um stop, ou até realizar uma alocação é utilizar um tipo de stop em que o preço alvo flutua ao favor da estratégia. Veja o exemplo:\n",
    "\n",
    "- A estratégia está zerada.\n",
    "- A estratégia quer comprar. Se mandar uma ordem, será no preço que está na fila.\n",
    "- E se ao invés de comprar, coloca-se um alvo: preço atual mais um delta, se bater no alvo, compra-se.\n",
    "- Se o preço atual cair, ajusta-se um novo alvo, mais baixo, permitindo comprar em um preço melhor!\n",
    "\n",
    "Vamos ver na prática:\n"
   ]
  },
  {
   "cell_type": "code",
   "execution_count": null,
   "metadata": {},
   "outputs": [],
   "source": [
    "ts = TradingSystem()\n",
    "ts.createBook(instrument)\n",
    "\n",
    "class MovingStop(Strategy):\n",
    "    def __init__(self):\n",
    "        \n",
    "        # Preço que desejo comprar\n",
    "        self.trigger = 9\n",
    "        \n",
    "        # Preço alvo, ainda não disparado\n",
    "        self.target = None\n",
    "    \n",
    "    def receive(self, event):\n",
    "        if event.type == Event.ASK:\n",
    "            \n",
    "            # Se o alvo ainda não foi disparado e bater no trigger:\n",
    "            if self.target is None and event.price <= self.trigger:\n",
    "                \n",
    "                print('Moving Stop disparado!')\n",
    "                \n",
    "                # Esse é o novo alvo + um delta\n",
    "                self.target = event.price\n",
    "                print('Preço stop: {}'.format(self.target + 0.5))\n",
    "            \n",
    "            # Se o alvo já está sendo rastreado\n",
    "            if self.target is not None:\n",
    "                \n",
    "                # Se o preço voltar (subir), compro\n",
    "                if event.price >= self.target + 0.5:\n",
    "                    print('Preço stop atingido, comprando')\n",
    "                    self.submit(self.id, Order(instrument, Order.B, 100, 0))\n",
    "\n",
    "                # Se o preço cair, traço novas metas\n",
    "                elif event.price < self.target:\n",
    "                    \n",
    "                    # Atualização do target\n",
    "                    self.target = event.price\n",
    "                    print('Novo preço stop: {}'.format(self.target + 0.5))\n",
    "                \n",
    "            \n",
    "    def fill(self, id, instrument, price, quantity, status):\n",
    "        \n",
    "        print('{} order filled: {}@{}'.format(instrument, quantity, price))\n",
    "\n",
    "        \n",
    "movestop = MovingStop()\n",
    "ts.subscribe(instrument, movestop)"
   ]
  },
  {
   "cell_type": "markdown",
   "metadata": {},
   "source": [
    "Simulando passo a passo:"
   ]
  },
  {
   "cell_type": "code",
   "execution_count": null,
   "metadata": {},
   "outputs": [],
   "source": [
    "ts.inject(Event(instrument, datetime.now, Event.ASK, 9.2, 100))"
   ]
  },
  {
   "cell_type": "code",
   "execution_count": null,
   "metadata": {},
   "outputs": [],
   "source": [
    "ts.inject(Event(instrument, datetime.now, Event.ASK, 9.1, 100))"
   ]
  },
  {
   "cell_type": "code",
   "execution_count": null,
   "metadata": {},
   "outputs": [],
   "source": [
    "ts.inject(Event(instrument, datetime.now, Event.ASK, 9.0, 100))"
   ]
  },
  {
   "cell_type": "code",
   "execution_count": null,
   "metadata": {},
   "outputs": [],
   "source": [
    "ts.inject(Event(instrument, datetime.now, Event.ASK, 8.9, 100))"
   ]
  },
  {
   "cell_type": "code",
   "execution_count": null,
   "metadata": {},
   "outputs": [],
   "source": [
    "ts.inject(Event(instrument, datetime.now, Event.ASK, 8.5, 100))"
   ]
  },
  {
   "cell_type": "code",
   "execution_count": null,
   "metadata": {},
   "outputs": [],
   "source": [
    "ts.inject(Event(instrument, datetime.now, Event.ASK, 8.0, 100))"
   ]
  },
  {
   "cell_type": "code",
   "execution_count": null,
   "metadata": {},
   "outputs": [],
   "source": [
    "ts.inject(Event(instrument, datetime.now, Event.ASK, 8.5, 100))"
   ]
  },
  {
   "cell_type": "markdown",
   "metadata": {},
   "source": [
    "Pergunta: Qual é o tamanho ideal do delta?\n",
    "\n",
    "- Se ele for muito grande, quando voltar, a estratégia terá comprado em um preço ruim (ou não terá comprado)\n",
    "- Se ele for muito pequeno, qualquer pequena flutuação será suficiente para disparar a ordem"
   ]
  },
  {
   "cell_type": "markdown",
   "metadata": {},
   "source": [
    "### Outras Estratégias: OCO - One cancels other\n",
    "\n",
    "Muito utilizado para realizar stop gain e stop loss de forma autonôma sem intervenção humana.\n",
    "\n",
    "Dispara-se duas ordens, uma limitada (gain) e uma stop (loss). Caso alguma ordem seja executada, cancela-se a outra."
   ]
  },
  {
   "cell_type": "code",
   "execution_count": null,
   "metadata": {},
   "outputs": [],
   "source": [
    "ts = TradingSystem()\n",
    "ts.createBook(instrument)\n",
    "\n",
    "class OCO(Strategy):\n",
    "    \n",
    "    def __init__(self):\n",
    "        self.side = 0\n",
    "        self.target = None\n",
    "        self.gain_id = 0\n",
    "    \n",
    "    def receive(self, event):\n",
    "        \n",
    "        # se a posição está zerada, compra 100\n",
    "        if self.side == 0:\n",
    "            self.submit(self.id, Order(instrument, Order.B, 100, 0))\n",
    "        \n",
    "        \n",
    "        # Se houve um evento de trade\n",
    "        if event.type == Event.BID:\n",
    "            \n",
    "            # se o preço do evento for menor que um alvo\n",
    "            if self.target is not None and event.price <= self.target:\n",
    "                \n",
    "                # vende a mercado\n",
    "                print('Stop disparado!')\n",
    "                self.submit(self.id, Order(instrument, Order.S, 100, 0))\n",
    "            \n",
    "    def fill(self, id, instrument, price, quantity, status):\n",
    "        \n",
    "        print('{} order filled: {}@{}'.format(instrument, quantity, price))\n",
    "        \n",
    "        # se eu estou zerado\n",
    "        if self.side == 0: \n",
    "            # ordem de stop gain limitada\n",
    "            order = Order(instrument, Order.S, quantity, price + 1)\n",
    "            self.submit(self.id, order)\n",
    "            # guardo para o controle da ordem de stop gain\n",
    "            self.gain_id = order.id\n",
    "            # guardo a meta para o stop loss\n",
    "            self.target = price - 1\n",
    "            print('montei posição e disparei os stops!')\n",
    "            \n",
    "            self.side = 1\n",
    "            \n",
    "        else: # estou posicionado\n",
    "            \n",
    "            # invalido as ordens de stop\n",
    "            self.cancel(self.id, self.gain_id)\n",
    "            self.target = None\n",
    "            \n",
    "            print('ordens de stop desarmadas')\n",
    "        \n",
    "oco = OCO()\n",
    "ts.subscribe(instrument, oco)"
   ]
  },
  {
   "cell_type": "code",
   "execution_count": null,
   "metadata": {},
   "outputs": [],
   "source": [
    "ts.inject(Event(instrument, datetime.now, Event.ASK, 10.0, 100))"
   ]
  },
  {
   "cell_type": "code",
   "execution_count": null,
   "metadata": {},
   "outputs": [],
   "source": [
    "# Stop Gain\n",
    "ts.inject(Event(instrument, datetime.now, Event.BID, 11, 100))"
   ]
  },
  {
   "cell_type": "code",
   "execution_count": null,
   "metadata": {},
   "outputs": [],
   "source": [
    "# Stop loss desmontado, nada a ser feito\n",
    "\n",
    "ts.inject(Event(instrument, datetime.now, Event.BID, 9, 100))"
   ]
  },
  {
   "cell_type": "code",
   "execution_count": null,
   "metadata": {},
   "outputs": [],
   "source": [
    "# Rearmando a estratégia:\n",
    "\n",
    "ts.inject(Event(instrument, datetime.now, Event.BID, 9.9, 100))\n",
    "\n",
    "# alocando de novo\n",
    "oco.side = 0\n",
    "ts.inject(Event(instrument, datetime.now, Event.ASK, 10.0, 100))"
   ]
  },
  {
   "cell_type": "code",
   "execution_count": null,
   "metadata": {},
   "outputs": [],
   "source": [
    "# Stop Loss\n",
    "ts.inject(Event(instrument, datetime.now, Event.BID, 9, 100))"
   ]
  },
  {
   "cell_type": "code",
   "execution_count": null,
   "metadata": {},
   "outputs": [],
   "source": [
    "# Stop gain desmontado, nada a ser feito\n",
    "ts.inject(Event(instrument, datetime.now, Event.BID, 11, 100))"
   ]
  },
  {
   "cell_type": "markdown",
   "metadata": {},
   "source": [
    "Vocês podem combinar diversas formas para criar ordens sintéticas das mais variadas, incluindo o tempo como um fato para ordens do to VWAP, etc.\n",
    "\n",
    "Você pode combinar modelos de execução com modelos direcionais para realizar um backtesting de uma estratégia mais ampla."
   ]
  }
 ],
 "metadata": {
  "kernelspec": {
   "display_name": "Python 3 (ipykernel)",
   "language": "python",
   "name": "python3"
  },
  "language_info": {
   "codemirror_mode": {
    "name": "ipython",
    "version": 3
   },
   "file_extension": ".py",
   "mimetype": "text/x-python",
   "name": "python",
   "nbconvert_exporter": "python",
   "pygments_lexer": "ipython3",
   "version": "3.10.6"
  }
 },
 "nbformat": 4,
 "nbformat_minor": 2
}
