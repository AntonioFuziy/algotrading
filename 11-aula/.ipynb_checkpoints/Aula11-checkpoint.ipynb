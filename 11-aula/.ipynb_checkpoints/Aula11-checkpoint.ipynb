{
 "cells": [
  {
   "cell_type": "markdown",
   "metadata": {},
   "source": [
    "# Algotrading - Aula 11\n",
    "\n",
    "Efeito Portfolio\n",
    "___\n"
   ]
  },
  {
   "cell_type": "code",
   "execution_count": 1,
   "metadata": {},
   "outputs": [],
   "source": [
    "%matplotlib inline\n",
    "\n",
    "import numpy as np\n",
    "import pandas as pd\n",
    "import matplotlib.pyplot as plt\n",
    "import time\n",
    "from datetime import datetime\n",
    "import random\n",
    "import scipy.optimize as sco\n",
    "\n",
    "# Para fazer o backtesting\n",
    "from backtesting_v2_2 import TradingSystem, MarketData, Order, Strategy, Event, evaluateHist"
   ]
  },
  {
   "cell_type": "markdown",
   "metadata": {},
   "source": [
    "___\n",
    "\n",
    "### Definição: Sharpe Ratio\n",
    "\n",
    "Sharpe é uma medida que estabelece uma relação entre retorno e volatilidade de um portfolio, dada pela fórmula:\n",
    "\n",
    "$$SR = \\frac{r_p-r_f}{\\sigma_p}$$\n",
    "\n",
    "Onde:\n",
    "* $SR$: Sharpe Ratio\n",
    "* $r_p$: média dos retornos do portfolio\n",
    "* $r_f$: retorno do ativo riskfree (SELIC por exemplo)\n",
    "* $\\sigma_p$: volatilidade do portfolio\n",
    "\n",
    "Um Sharpe Ratio alto indica se uma carteira tem um bom retorno com baixa volatilidade de resultado, já um sharpe baixo indica que o retorno é baixo ou a volatidade dos retornos é muito alto. \n",
    "\n",
    "Normalmente deseja-se um sharpe mais alto possível, contudo note que a medida pode não ser comparável entre diferentes carteiras, pois podem conter diferentes *Assets Classes*.\n",
    "\n",
    "___\n",
    "\n",
    "### Exemplo: 3 Estratégias distintas do tipo Buy & Hold\n",
    "\n",
    "Vamos calcular o Sharpe Ratio para 3 estratégias bem simples e independentes. Vamos realizar a mesma quantidade de alocação em todas as estratégias.\n",
    "\n",
    "Começamos adquirindo 3 ações diferentes por 2 anos"
   ]
  },
  {
   "cell_type": "code",
   "execution_count": 2,
   "metadata": {},
   "outputs": [],
   "source": [
    "import yahoofinancials as yf\n",
    "tickers = ['ITUB4.SA', 'VALE3.SA', 'PETR3.SA']\n",
    "\n",
    "start_date = '2017-12-14'\n",
    "end_date =  '2021-05-14'\n",
    "\n",
    "for ticker in tickers:\n",
    "    data = yf.YahooFinancials(ticker).get_historical_price_data(start_date, end_date, 'daily')\n",
    "\n",
    "    # Ler os dados do JSON\n",
    "    raw = pd.DataFrame(data[ticker]['prices']).dropna()\n",
    "    # Converter a data para o tipo correto datetime\n",
    "    raw['formatted_date'] = pd.to_datetime(raw['formatted_date'])\n",
    "    # Indica a data como o índice de cada linha\n",
    "    raw = raw.set_index('formatted_date')\n",
    "    # Removendo as colunas que não interessam\n",
    "    df = raw.iloc[:,1:]\n",
    "\n",
    "    # Acertando a ordem das colunas\n",
    "    df = df.reindex(columns=['open', 'high', 'low', 'close', 'adjclose', 'volume'])\n",
    "    # Salvando o CSV\n",
    "    df.to_csv('{}.csv'.format(ticker))"
   ]
  },
  {
   "cell_type": "markdown",
   "metadata": {},
   "source": [
    "Montando o DataFrame"
   ]
  },
  {
   "cell_type": "code",
   "execution_count": 3,
   "metadata": {},
   "outputs": [
    {
     "data": {
      "text/html": [
       "<div>\n",
       "<style scoped>\n",
       "    .dataframe tbody tr th:only-of-type {\n",
       "        vertical-align: middle;\n",
       "    }\n",
       "\n",
       "    .dataframe tbody tr th {\n",
       "        vertical-align: top;\n",
       "    }\n",
       "\n",
       "    .dataframe thead th {\n",
       "        text-align: right;\n",
       "    }\n",
       "</style>\n",
       "<table border=\"1\" class=\"dataframe\">\n",
       "  <thead>\n",
       "    <tr style=\"text-align: right;\">\n",
       "      <th></th>\n",
       "      <th>ITUB4.SA</th>\n",
       "      <th>VALE3.SA</th>\n",
       "      <th>PETR3.SA</th>\n",
       "    </tr>\n",
       "  </thead>\n",
       "  <tbody>\n",
       "    <tr>\n",
       "      <th>252</th>\n",
       "      <td>29.345146</td>\n",
       "      <td>35.491394</td>\n",
       "      <td>10.547262</td>\n",
       "    </tr>\n",
       "    <tr>\n",
       "      <th>253</th>\n",
       "      <td>29.336672</td>\n",
       "      <td>35.349461</td>\n",
       "      <td>10.291674</td>\n",
       "    </tr>\n",
       "    <tr>\n",
       "      <th>254</th>\n",
       "      <td>29.201157</td>\n",
       "      <td>36.094635</td>\n",
       "      <td>10.300195</td>\n",
       "    </tr>\n",
       "    <tr>\n",
       "      <th>255</th>\n",
       "      <td>28.565990</td>\n",
       "      <td>35.796566</td>\n",
       "      <td>10.492798</td>\n",
       "    </tr>\n",
       "    <tr>\n",
       "      <th>256</th>\n",
       "      <td>29.048721</td>\n",
       "      <td>35.129456</td>\n",
       "      <td>10.433034</td>\n",
       "    </tr>\n",
       "    <tr>\n",
       "      <th>...</th>\n",
       "      <td>...</td>\n",
       "      <td>...</td>\n",
       "      <td>...</td>\n",
       "    </tr>\n",
       "    <tr>\n",
       "      <th>838</th>\n",
       "      <td>25.596722</td>\n",
       "      <td>91.567398</td>\n",
       "      <td>11.155781</td>\n",
       "    </tr>\n",
       "    <tr>\n",
       "      <th>839</th>\n",
       "      <td>25.976549</td>\n",
       "      <td>90.964607</td>\n",
       "      <td>11.295635</td>\n",
       "    </tr>\n",
       "    <tr>\n",
       "      <th>840</th>\n",
       "      <td>25.920971</td>\n",
       "      <td>94.160942</td>\n",
       "      <td>11.444814</td>\n",
       "    </tr>\n",
       "    <tr>\n",
       "      <th>841</th>\n",
       "      <td>25.541142</td>\n",
       "      <td>90.679077</td>\n",
       "      <td>11.300297</td>\n",
       "    </tr>\n",
       "    <tr>\n",
       "      <th>842</th>\n",
       "      <td>26.282269</td>\n",
       "      <td>89.219719</td>\n",
       "      <td>11.421506</td>\n",
       "    </tr>\n",
       "  </tbody>\n",
       "</table>\n",
       "<p>591 rows × 3 columns</p>\n",
       "</div>"
      ],
      "text/plain": [
       "      ITUB4.SA   VALE3.SA   PETR3.SA\n",
       "252  29.345146  35.491394  10.547262\n",
       "253  29.336672  35.349461  10.291674\n",
       "254  29.201157  36.094635  10.300195\n",
       "255  28.565990  35.796566  10.492798\n",
       "256  29.048721  35.129456  10.433034\n",
       "..         ...        ...        ...\n",
       "838  25.596722  91.567398  11.155781\n",
       "839  25.976549  90.964607  11.295635\n",
       "840  25.920971  94.160942  11.444814\n",
       "841  25.541142  90.679077  11.300297\n",
       "842  26.282269  89.219719  11.421506\n",
       "\n",
       "[591 rows x 3 columns]"
      ]
     },
     "execution_count": 3,
     "metadata": {},
     "output_type": "execute_result"
    }
   ],
   "source": [
    "prices = pd.DataFrame()\n",
    "for ticker in tickers:\n",
    "    prices[ticker] = pd.read_csv('{}.csv'.format(ticker))['adjclose'].iloc[252:]\n",
    "\n",
    "prices = prices.dropna()\n",
    "prices"
   ]
  },
  {
   "cell_type": "markdown",
   "metadata": {},
   "source": [
    "Calculando o retorno acumulado da carteira"
   ]
  },
  {
   "cell_type": "code",
   "execution_count": 4,
   "metadata": {},
   "outputs": [
    {
     "data": {
      "text/html": [
       "<div>\n",
       "<style scoped>\n",
       "    .dataframe tbody tr th:only-of-type {\n",
       "        vertical-align: middle;\n",
       "    }\n",
       "\n",
       "    .dataframe tbody tr th {\n",
       "        vertical-align: top;\n",
       "    }\n",
       "\n",
       "    .dataframe thead th {\n",
       "        text-align: right;\n",
       "    }\n",
       "</style>\n",
       "<table border=\"1\" class=\"dataframe\">\n",
       "  <thead>\n",
       "    <tr style=\"text-align: right;\">\n",
       "      <th></th>\n",
       "      <th>Portfolio</th>\n",
       "      <th>ITUB4.SA</th>\n",
       "      <th>VALE3.SA</th>\n",
       "      <th>PETR3.SA</th>\n",
       "    </tr>\n",
       "  </thead>\n",
       "  <tbody>\n",
       "    <tr>\n",
       "      <th>252</th>\n",
       "      <td>0.000000</td>\n",
       "      <td>0.000000</td>\n",
       "      <td>0.000000</td>\n",
       "      <td>0.000000</td>\n",
       "    </tr>\n",
       "    <tr>\n",
       "      <th>253</th>\n",
       "      <td>-0.009507</td>\n",
       "      <td>-0.000289</td>\n",
       "      <td>-0.003999</td>\n",
       "      <td>-0.024233</td>\n",
       "    </tr>\n",
       "    <tr>\n",
       "      <th>254</th>\n",
       "      <td>-0.003778</td>\n",
       "      <td>-0.004907</td>\n",
       "      <td>0.016997</td>\n",
       "      <td>-0.023425</td>\n",
       "    </tr>\n",
       "    <tr>\n",
       "      <th>255</th>\n",
       "      <td>-0.007706</td>\n",
       "      <td>-0.026551</td>\n",
       "      <td>0.008598</td>\n",
       "      <td>-0.005164</td>\n",
       "    </tr>\n",
       "    <tr>\n",
       "      <th>256</th>\n",
       "      <td>-0.010376</td>\n",
       "      <td>-0.010101</td>\n",
       "      <td>-0.010198</td>\n",
       "      <td>-0.010830</td>\n",
       "    </tr>\n",
       "    <tr>\n",
       "      <th>...</th>\n",
       "      <td>...</td>\n",
       "      <td>...</td>\n",
       "      <td>...</td>\n",
       "      <td>...</td>\n",
       "    </tr>\n",
       "    <tr>\n",
       "      <th>838</th>\n",
       "      <td>0.503316</td>\n",
       "      <td>-0.127736</td>\n",
       "      <td>1.579989</td>\n",
       "      <td>0.057694</td>\n",
       "    </tr>\n",
       "    <tr>\n",
       "      <th>839</th>\n",
       "      <td>0.506389</td>\n",
       "      <td>-0.114792</td>\n",
       "      <td>1.563005</td>\n",
       "      <td>0.070954</td>\n",
       "    </tr>\n",
       "    <tr>\n",
       "      <th>840</th>\n",
       "      <td>0.540492</td>\n",
       "      <td>-0.116686</td>\n",
       "      <td>1.653064</td>\n",
       "      <td>0.085098</td>\n",
       "    </tr>\n",
       "    <tr>\n",
       "      <th>841</th>\n",
       "      <td>0.498909</td>\n",
       "      <td>-0.129630</td>\n",
       "      <td>1.554960</td>\n",
       "      <td>0.071396</td>\n",
       "    </tr>\n",
       "    <tr>\n",
       "      <th>842</th>\n",
       "      <td>0.497452</td>\n",
       "      <td>-0.104374</td>\n",
       "      <td>1.513841</td>\n",
       "      <td>0.082888</td>\n",
       "    </tr>\n",
       "  </tbody>\n",
       "</table>\n",
       "<p>591 rows × 4 columns</p>\n",
       "</div>"
      ],
      "text/plain": [
       "     Portfolio  ITUB4.SA  VALE3.SA  PETR3.SA\n",
       "252   0.000000  0.000000  0.000000  0.000000\n",
       "253  -0.009507 -0.000289 -0.003999 -0.024233\n",
       "254  -0.003778 -0.004907  0.016997 -0.023425\n",
       "255  -0.007706 -0.026551  0.008598 -0.005164\n",
       "256  -0.010376 -0.010101 -0.010198 -0.010830\n",
       "..         ...       ...       ...       ...\n",
       "838   0.503316 -0.127736  1.579989  0.057694\n",
       "839   0.506389 -0.114792  1.563005  0.070954\n",
       "840   0.540492 -0.116686  1.653064  0.085098\n",
       "841   0.498909 -0.129630  1.554960  0.071396\n",
       "842   0.497452 -0.104374  1.513841  0.082888\n",
       "\n",
       "[591 rows x 4 columns]"
      ]
     },
     "execution_count": 4,
     "metadata": {},
     "output_type": "execute_result"
    }
   ],
   "source": [
    "accret = pd.DataFrame()\n",
    "accret['Portfolio'] = prices[tickers[0]]*0\n",
    "\n",
    "for ticker in tickers:\n",
    "    accret[ticker] = prices[ticker] / prices[ticker].iloc[0] - 1\n",
    "    accret['Portfolio'] += 1/len(tickers)*accret[ticker]\n",
    "\n",
    "accret"
   ]
  },
  {
   "cell_type": "code",
   "execution_count": 5,
   "metadata": {},
   "outputs": [
    {
     "data": {
      "image/png": "[encoded data removed]",
      "text/plain": [
       "<Figure size 640x480 with 1 Axes>"
      ]
     },
     "metadata": {},
     "output_type": "display_data"
    }
   ],
   "source": [
    "accret.plot();"
   ]
  },
  {
   "cell_type": "markdown",
   "metadata": {},
   "source": [
    "Simulando uma posição igualitária entre todos os ativos"
   ]
  },
  {
   "cell_type": "code",
   "execution_count": 6,
   "metadata": {},
   "outputs": [
    {
     "data": {
      "text/plain": [
       "ITUB4.SA    34.077186\n",
       "VALE3.SA    28.175845\n",
       "PETR3.SA    94.811334\n",
       "Name: 252, dtype: float64"
      ]
     },
     "execution_count": 6,
     "metadata": {},
     "output_type": "execute_result"
    }
   ],
   "source": [
    "position = 1000/prices.iloc[0,:]\n",
    "position"
   ]
  },
  {
   "cell_type": "markdown",
   "metadata": {},
   "source": [
    "Séries de resultados"
   ]
  },
  {
   "cell_type": "code",
   "execution_count": 7,
   "metadata": {},
   "outputs": [
    {
     "data": {
      "text/html": [
       "<div>\n",
       "<style scoped>\n",
       "    .dataframe tbody tr th:only-of-type {\n",
       "        vertical-align: middle;\n",
       "    }\n",
       "\n",
       "    .dataframe tbody tr th {\n",
       "        vertical-align: top;\n",
       "    }\n",
       "\n",
       "    .dataframe thead th {\n",
       "        text-align: right;\n",
       "    }\n",
       "</style>\n",
       "<table border=\"1\" class=\"dataframe\">\n",
       "  <thead>\n",
       "    <tr style=\"text-align: right;\">\n",
       "      <th></th>\n",
       "      <th>ITUB4.SA</th>\n",
       "      <th>VALE3.SA</th>\n",
       "      <th>PETR3.SA</th>\n",
       "    </tr>\n",
       "  </thead>\n",
       "  <tbody>\n",
       "    <tr>\n",
       "      <th>252</th>\n",
       "      <td>1000.000000</td>\n",
       "      <td>1000.000000</td>\n",
       "      <td>1000.000000</td>\n",
       "    </tr>\n",
       "    <tr>\n",
       "      <th>253</th>\n",
       "      <td>999.711218</td>\n",
       "      <td>996.000905</td>\n",
       "      <td>975.767310</td>\n",
       "    </tr>\n",
       "    <tr>\n",
       "      <th>254</th>\n",
       "      <td>995.093241</td>\n",
       "      <td>1016.996824</td>\n",
       "      <td>976.575205</td>\n",
       "    </tr>\n",
       "    <tr>\n",
       "      <th>255</th>\n",
       "      <td>973.448565</td>\n",
       "      <td>1008.598478</td>\n",
       "      <td>994.836163</td>\n",
       "    </tr>\n",
       "    <tr>\n",
       "      <th>256</th>\n",
       "      <td>989.898675</td>\n",
       "      <td>989.802078</td>\n",
       "      <td>989.169867</td>\n",
       "    </tr>\n",
       "    <tr>\n",
       "      <th>...</th>\n",
       "      <td>...</td>\n",
       "      <td>...</td>\n",
       "      <td>...</td>\n",
       "    </tr>\n",
       "    <tr>\n",
       "      <th>838</th>\n",
       "      <td>872.264241</td>\n",
       "      <td>2579.988770</td>\n",
       "      <td>1057.694460</td>\n",
       "    </tr>\n",
       "    <tr>\n",
       "      <th>839</th>\n",
       "      <td>885.207693</td>\n",
       "      <td>2563.004629</td>\n",
       "      <td>1070.954246</td>\n",
       "    </tr>\n",
       "    <tr>\n",
       "      <th>840</th>\n",
       "      <td>883.313743</td>\n",
       "      <td>2653.064063</td>\n",
       "      <td>1085.098059</td>\n",
       "    </tr>\n",
       "    <tr>\n",
       "      <th>841</th>\n",
       "      <td>870.370226</td>\n",
       "      <td>2554.959578</td>\n",
       "      <td>1071.396214</td>\n",
       "    </tr>\n",
       "    <tr>\n",
       "      <th>842</th>\n",
       "      <td>895.625749</td>\n",
       "      <td>2513.840928</td>\n",
       "      <td>1082.888215</td>\n",
       "    </tr>\n",
       "  </tbody>\n",
       "</table>\n",
       "<p>591 rows × 3 columns</p>\n",
       "</div>"
      ],
      "text/plain": [
       "        ITUB4.SA     VALE3.SA     PETR3.SA\n",
       "252  1000.000000  1000.000000  1000.000000\n",
       "253   999.711218   996.000905   975.767310\n",
       "254   995.093241  1016.996824   976.575205\n",
       "255   973.448565  1008.598478   994.836163\n",
       "256   989.898675   989.802078   989.169867\n",
       "..           ...          ...          ...\n",
       "838   872.264241  2579.988770  1057.694460\n",
       "839   885.207693  2563.004629  1070.954246\n",
       "840   883.313743  2653.064063  1085.098059\n",
       "841   870.370226  2554.959578  1071.396214\n",
       "842   895.625749  2513.840928  1082.888215\n",
       "\n",
       "[591 rows x 3 columns]"
      ]
     },
     "execution_count": 7,
     "metadata": {},
     "output_type": "execute_result"
    }
   ],
   "source": [
    "result = prices * position\n",
    "result"
   ]
  },
  {
   "cell_type": "code",
   "execution_count": 8,
   "metadata": {},
   "outputs": [
    {
     "data": {
      "text/plain": [
       "252    3000.000000\n",
       "253    2971.479434\n",
       "254    2988.665270\n",
       "255    2976.883206\n",
       "256    2968.870620\n",
       "          ...     \n",
       "838    4509.947471\n",
       "839    4519.166568\n",
       "840    4621.475865\n",
       "841    4496.726018\n",
       "842    4492.354892\n",
       "Length: 591, dtype: float64"
      ]
     },
     "execution_count": 8,
     "metadata": {},
     "output_type": "execute_result"
    }
   ],
   "source": [
    "acc = result.sum(axis=1)\n",
    "acc"
   ]
  },
  {
   "cell_type": "code",
   "execution_count": 9,
   "metadata": {},
   "outputs": [
    {
     "data": {
      "image/png": "[encoded data removed]",
      "text/plain": [
       "<Figure size 640x480 with 1 Axes>"
      ]
     },
     "metadata": {},
     "output_type": "display_data"
    }
   ],
   "source": [
    "acc.plot();"
   ]
  },
  {
   "cell_type": "markdown",
   "metadata": {},
   "source": [
    "Retorno ponto a ponto"
   ]
  },
  {
   "cell_type": "code",
   "execution_count": 10,
   "metadata": {},
   "outputs": [
    {
     "data": {
      "text/plain": [
       "253   -0.009507\n",
       "254    0.005784\n",
       "255   -0.003942\n",
       "256   -0.002692\n",
       "257    0.034962\n",
       "         ...   \n",
       "838    0.012884\n",
       "839    0.002044\n",
       "840    0.022639\n",
       "841   -0.026994\n",
       "842   -0.000972\n",
       "Length: 590, dtype: float64"
      ]
     },
     "execution_count": 10,
     "metadata": {},
     "output_type": "execute_result"
    }
   ],
   "source": [
    "ret = acc.pct_change().dropna()\n",
    "ret"
   ]
  },
  {
   "cell_type": "code",
   "execution_count": 11,
   "metadata": {},
   "outputs": [
    {
     "data": {
      "image/png": "[encoded data removed]",
      "text/plain": [
       "<Figure size 640x480 with 1 Axes>"
      ]
     },
     "metadata": {},
     "output_type": "display_data"
    }
   ],
   "source": [
    "ret.plot();"
   ]
  },
  {
   "cell_type": "markdown",
   "metadata": {},
   "source": [
    "Cálculo do Sharpe Ratio anualizado. Usamos a SELIC diária como ativo livre de risco. Cuidado com as unidades de medida"
   ]
  },
  {
   "cell_type": "code",
   "execution_count": 15,
   "metadata": {},
   "outputs": [
    {
     "name": "stdout",
     "output_type": "stream",
     "text": [
      "0.3080380862847094\n"
     ]
    }
   ],
   "source": [
    "SELIC = 13.75\n",
    "DIA = (1+SELIC/100)**(1/252) - 1\n",
    "\n",
    "SR = 252**0.5*(ret.mean()-DIA)/ret.std()\n",
    "\n",
    "print(SR)"
   ]
  },
  {
   "cell_type": "markdown",
   "metadata": {},
   "source": [
    "___\n",
    "\n",
    "Agora vamos calcular os mesmos resultados, mas ao invés de ser um portifólio com pesos iguais, vamos tentar melhorar o Sharpe Ratio"
   ]
  },
  {
   "cell_type": "code",
   "execution_count": 16,
   "metadata": {},
   "outputs": [
    {
     "data": {
      "text/html": [
       "<div>\n",
       "<style scoped>\n",
       "    .dataframe tbody tr th:only-of-type {\n",
       "        vertical-align: middle;\n",
       "    }\n",
       "\n",
       "    .dataframe tbody tr th {\n",
       "        vertical-align: top;\n",
       "    }\n",
       "\n",
       "    .dataframe thead th {\n",
       "        text-align: right;\n",
       "    }\n",
       "</style>\n",
       "<table border=\"1\" class=\"dataframe\">\n",
       "  <thead>\n",
       "    <tr style=\"text-align: right;\">\n",
       "      <th></th>\n",
       "      <th>ITUB4.SA</th>\n",
       "      <th>VALE3.SA</th>\n",
       "      <th>PETR3.SA</th>\n",
       "    </tr>\n",
       "  </thead>\n",
       "  <tbody>\n",
       "    <tr>\n",
       "      <th>0</th>\n",
       "      <td>21.774593</td>\n",
       "      <td>24.456434</td>\n",
       "      <td>6.683680</td>\n",
       "    </tr>\n",
       "    <tr>\n",
       "      <th>1</th>\n",
       "      <td>21.851440</td>\n",
       "      <td>24.895079</td>\n",
       "      <td>6.577992</td>\n",
       "    </tr>\n",
       "    <tr>\n",
       "      <th>2</th>\n",
       "      <td>21.846119</td>\n",
       "      <td>25.536184</td>\n",
       "      <td>6.696362</td>\n",
       "    </tr>\n",
       "    <tr>\n",
       "      <th>3</th>\n",
       "      <td>21.723806</td>\n",
       "      <td>25.542936</td>\n",
       "      <td>6.662542</td>\n",
       "    </tr>\n",
       "    <tr>\n",
       "      <th>4</th>\n",
       "      <td>21.803572</td>\n",
       "      <td>26.420235</td>\n",
       "      <td>6.747094</td>\n",
       "    </tr>\n",
       "    <tr>\n",
       "      <th>...</th>\n",
       "      <td>...</td>\n",
       "      <td>...</td>\n",
       "      <td>...</td>\n",
       "    </tr>\n",
       "    <tr>\n",
       "      <th>247</th>\n",
       "      <td>29.767933</td>\n",
       "      <td>35.746883</td>\n",
       "      <td>11.241611</td>\n",
       "    </tr>\n",
       "    <tr>\n",
       "      <th>248</th>\n",
       "      <td>30.292841</td>\n",
       "      <td>35.910110</td>\n",
       "      <td>11.301249</td>\n",
       "    </tr>\n",
       "    <tr>\n",
       "      <th>249</th>\n",
       "      <td>30.072716</td>\n",
       "      <td>36.108826</td>\n",
       "      <td>11.216052</td>\n",
       "    </tr>\n",
       "    <tr>\n",
       "      <th>250</th>\n",
       "      <td>29.268419</td>\n",
       "      <td>36.371407</td>\n",
       "      <td>11.096777</td>\n",
       "    </tr>\n",
       "    <tr>\n",
       "      <th>251</th>\n",
       "      <td>29.743187</td>\n",
       "      <td>36.506248</td>\n",
       "      <td>10.721913</td>\n",
       "    </tr>\n",
       "  </tbody>\n",
       "</table>\n",
       "<p>252 rows × 3 columns</p>\n",
       "</div>"
      ],
      "text/plain": [
       "      ITUB4.SA   VALE3.SA   PETR3.SA\n",
       "0    21.774593  24.456434   6.683680\n",
       "1    21.851440  24.895079   6.577992\n",
       "2    21.846119  25.536184   6.696362\n",
       "3    21.723806  25.542936   6.662542\n",
       "4    21.803572  26.420235   6.747094\n",
       "..         ...        ...        ...\n",
       "247  29.767933  35.746883  11.241611\n",
       "248  30.292841  35.910110  11.301249\n",
       "249  30.072716  36.108826  11.216052\n",
       "250  29.268419  36.371407  11.096777\n",
       "251  29.743187  36.506248  10.721913\n",
       "\n",
       "[252 rows x 3 columns]"
      ]
     },
     "execution_count": 16,
     "metadata": {},
     "output_type": "execute_result"
    }
   ],
   "source": [
    "first = pd.DataFrame()\n",
    "for ticker in tickers:\n",
    "    first[ticker] = pd.read_csv('{}.csv'.format(ticker))['adjclose'].iloc[:252]\n",
    "\n",
    "first = first.dropna()\n",
    "first"
   ]
  },
  {
   "cell_type": "markdown",
   "metadata": {},
   "source": [
    "Calculando a média e o desvio padrão dos retornos"
   ]
  },
  {
   "cell_type": "code",
   "execution_count": 17,
   "metadata": {},
   "outputs": [
    {
     "name": "stdout",
     "output_type": "stream",
     "text": [
      "[0.00141469 0.00180704 0.00235422]\n",
      "[[3.44731120e-04 8.64885651e-05 2.81760604e-04]\n",
      " [8.64885651e-05 4.20124692e-04 1.50853378e-04]\n",
      " [2.81760604e-04 1.50853378e-04 9.26251014e-04]]\n"
     ]
    }
   ],
   "source": [
    "# Primeiros pontos\n",
    "avg = first.pct_change().dropna().mean().values\n",
    "cov = first.pct_change().dropna().cov().values\n",
    "\n",
    "# Últimos pontos para comparar o resultado anterior\n",
    "#avg = prices.pct_change().dropna().mean().values\n",
    "#cov = prices.pct_change().dropna().cov().values\n",
    "\n",
    "print(avg)\n",
    "print(cov)"
   ]
  },
  {
   "cell_type": "markdown",
   "metadata": {},
   "source": [
    "Cálculo dos pesos w da carteira tentando diminuir a variância:"
   ]
  },
  {
   "cell_type": "code",
   "execution_count": 18,
   "metadata": {},
   "outputs": [
    {
     "name": "stdout",
     "output_type": "stream",
     "text": [
      "[0.31522169 0.4910242  0.19375411]\n"
     ]
    }
   ],
   "source": [
    "inv = np.linalg.inv(cov)\n",
    "\n",
    "den = np.ones((1,len(tickers)))@inv@avg\n",
    "w = (inv@avg)/den\n",
    "print(w)"
   ]
  },
  {
   "cell_type": "code",
   "execution_count": 19,
   "metadata": {},
   "outputs": [
    {
     "name": "stdout",
     "output_type": "stream",
     "text": [
      "ITUB4.SA    34.077186\n",
      "VALE3.SA    28.175845\n",
      "PETR3.SA    94.811334\n",
      "Name: 252, dtype: float64\n",
      "ITUB4.SA    32.225604\n",
      "VALE3.SA    41.505064\n",
      "PETR3.SA    55.110258\n",
      "Name: 252, dtype: float64\n"
     ]
    }
   ],
   "source": [
    "opt_position = 1000*len(tickers)*w/prices.iloc[0,:]\n",
    "print(position)\n",
    "print(opt_position)"
   ]
  },
  {
   "cell_type": "markdown",
   "metadata": {},
   "source": [
    "Comparação dos dois resultados"
   ]
  },
  {
   "cell_type": "code",
   "execution_count": 20,
   "metadata": {},
   "outputs": [
    {
     "name": "stdout",
     "output_type": "stream",
     "text": [
      "2179.4743052454396\n"
     ]
    },
    {
     "data": {
      "image/png": "[encoded data removed]",
      "text/plain": [
       "<Figure size 640x480 with 1 Axes>"
      ]
     },
     "metadata": {},
     "output_type": "display_data"
    }
   ],
   "source": [
    "opt_result = prices * opt_position\n",
    "opt_acc = opt_result.sum(axis=1)\n",
    "plt.plot(acc, label='dummy');\n",
    "plt.plot(opt_acc, label='optimal');\n",
    "plt.legend();\n",
    "print(opt_acc.iloc[-1]-3000)"
   ]
  },
  {
   "cell_type": "markdown",
   "metadata": {},
   "source": [
    "Comparação dos dois Sharpes"
   ]
  },
  {
   "cell_type": "code",
   "execution_count": 21,
   "metadata": {},
   "outputs": [
    {
     "name": "stdout",
     "output_type": "stream",
     "text": [
      "0.3080380862847094\n",
      "0.4657089918830554\n"
     ]
    }
   ],
   "source": [
    "opt_ret = opt_acc.pct_change().dropna()\n",
    "opt_SR = 252**0.5*(opt_ret.mean()-DIA)/opt_ret.std()\n",
    "\n",
    "print(SR)\n",
    "print(opt_SR)"
   ]
  },
  {
   "cell_type": "markdown",
   "metadata": {},
   "source": [
    "Antes de avançarmos, vamos refazer os passos, mas agora com os primeiros dados e dar passos no escuro\n",
    "___\n",
    "\n",
    "Usando o simulador. A primeira tentativa é mimetizar os resultados anteriores com Buy & Hold a partir do 253o dia"
   ]
  },
  {
   "cell_type": "code",
   "execution_count": 22,
   "metadata": {},
   "outputs": [],
   "source": [
    "# Criando sua estratégia\n",
    "class BuynHold(Strategy):\n",
    "\n",
    "    # Chamado de construtor: inicializa variáveis de suporte\n",
    "    def __init__(self, ticker):\n",
    "        self.ticker = ticker # Armazena o ticker observado\n",
    "        self.bought = False # Indica se já comprou ou não\n",
    "        \n",
    "        self.count = 0\n",
    "\n",
    "    # Função chamada a cada preço recebido\n",
    "    def receive(self, event):\n",
    "        \n",
    "        if event.instrument == self.ticker:\n",
    "            self.count += 1\n",
    "            # Se ainda não comprou, faça\n",
    "            # Note o uso do prefixo self. para as variáveis de suporte\n",
    "            if not self.bought and self.count == 253:\n",
    "                self.bought = True\n",
    "\n",
    "                # Envia uma ordem compra de 1 a mercado (preço zero)\n",
    "                self.submit(self.id, Order(event.instrument, Order.B, 1, 0))\n",
    "    "
   ]
  },
  {
   "cell_type": "code",
   "execution_count": 24,
   "metadata": {},
   "outputs": [
    {
     "name": "stdout",
     "output_type": "stream",
     "text": [
      "ITUB4.SA:\n",
      "\n",
      "Gross Profit: $5.37\n",
      "Gross Loss: $0.00\n",
      "Gross Total: $5.37\n",
      "\n",
      "Number of trades: 1\n",
      "Hitting Ratio: 100.00%\n",
      "Number of profit trades: 1\n",
      "Number of loss trades: 0\n",
      "Average number of events per trade: 717.00\n",
      "\n",
      "Max win trade: $5.37\n",
      "Avg win trade: $5.37\n",
      "Max loss trade: $-\n",
      "Avg loss trade: $-\n",
      "Avg all trades: $5.37\n",
      "Win/Loss ratio: -\n",
      "\n",
      "Max Profit: $12.97\n",
      "Max Profit High/Low: $18.88\n",
      "Max Drawdown: $-2.35\n",
      "Max Drawdown High/Low: $-0.91\n",
      "\n",
      "Max Allocation: $20.91\n",
      "Avg Allocation: $20.91\n",
      "Max Cash Required (margin): $20.91\n",
      "\n",
      "Gross Total: $5.37\n",
      "Total Fees: $0.20\n",
      "Total Taxes: $0.81\n",
      "Net Total: $4.36\n",
      "\n",
      "Gross Return: 25.67%\n",
      "Average Return: 25.67%\n",
      "Net Return: 20.86%\n",
      "Net Return Avg Alocation: 20.86%\n",
      "\n",
      "Number of days: 843\n",
      "Initial Capital: $10000.00\n",
      "Risk Free Rate: 13.75% yearly/0.0511% daily\n",
      "Total Carry: $5378.35\n",
      "Net Total + Carry: $5382.71\n",
      "Net Return Capital: 53.83%\n",
      "Net Return Capital Yearly: 13.74%\n",
      "\n",
      "\n",
      "VALE3.SA:\n",
      "\n",
      "Gross Profit: $55.27\n",
      "Gross Loss: $0.00\n",
      "Gross Total: $55.27\n",
      "\n",
      "Number of trades: 1\n",
      "Hitting Ratio: 100.00%\n",
      "Number of profit trades: 1\n",
      "Number of loss trades: 0\n",
      "Average number of events per trade: 717.00\n",
      "\n",
      "Max win trade: $55.27\n",
      "Avg win trade: $55.27\n",
      "Max loss trade: $-\n",
      "Avg loss trade: $-\n",
      "Avg all trades: $55.27\n",
      "Win/Loss ratio: -\n",
      "\n",
      "Max Profit: $60.22\n",
      "Max Profit High/Low: $86.50\n",
      "Max Drawdown: $-9.10\n",
      "Max Drawdown High/Low: $-1.50\n",
      "\n",
      "Max Allocation: $55.27\n",
      "Avg Allocation: $55.27\n",
      "Max Cash Required (margin): $55.27\n",
      "\n",
      "Gross Total: $55.27\n",
      "Total Fees: $0.20\n",
      "Total Taxes: $8.29\n",
      "Net Total: $46.78\n",
      "\n",
      "Gross Return: 100.00%\n",
      "Average Return: 100.00%\n",
      "Net Return: 84.64%\n",
      "Net Return Avg Alocation: 84.64%\n",
      "\n",
      "Number of days: 843\n",
      "Initial Capital: $10000.00\n",
      "Risk Free Rate: 13.75% yearly/0.0511% daily\n",
      "Total Carry: $5372.61\n",
      "Net Total + Carry: $5419.39\n",
      "Net Return Capital: 54.19%\n",
      "Net Return Capital Yearly: 13.82%\n",
      "\n",
      "\n",
      "PETR3.SA:\n",
      "\n",
      "Gross Profit: $4.13\n",
      "Gross Loss: $0.00\n",
      "Gross Total: $4.13\n",
      "\n",
      "Number of trades: 1\n",
      "Hitting Ratio: 100.00%\n",
      "Number of profit trades: 1\n",
      "Number of loss trades: 0\n",
      "Average number of events per trade: 717.00\n",
      "\n",
      "Max win trade: $4.13\n",
      "Avg win trade: $4.13\n",
      "Max loss trade: $-\n",
      "Avg loss trade: $-\n",
      "Avg all trades: $4.13\n",
      "Win/Loss ratio: -\n",
      "\n",
      "Max Profit: $7.14\n",
      "Max Profit High/Low: $26.41\n",
      "Max Drawdown: $-2.49\n",
      "Max Drawdown High/Low: $0.00\n",
      "\n",
      "Max Allocation: $7.29\n",
      "Avg Allocation: $7.29\n",
      "Max Cash Required (margin): $7.29\n",
      "\n",
      "Gross Total: $4.13\n",
      "Total Fees: $0.20\n",
      "Total Taxes: $0.62\n",
      "Net Total: $3.31\n",
      "\n",
      "Gross Return: 56.72%\n",
      "Average Return: 56.72%\n",
      "Net Return: 45.46%\n",
      "Net Return Avg Alocation: 45.46%\n",
      "\n",
      "Number of days: 843\n",
      "Initial Capital: $10000.00\n",
      "Risk Free Rate: 13.75% yearly/0.0511% daily\n",
      "Total Carry: $5384.37\n",
      "Net Total + Carry: $5387.69\n",
      "Net Return Capital: 53.88%\n",
      "Net Return Capital Yearly: 13.75%\n",
      "\n",
      "\n"
     ]
    }
   ],
   "source": [
    "###### data = MarketData()\n",
    "ts = TradingSystem()\n",
    "\n",
    "strategies = {}\n",
    "files = {}\n",
    "for ticker in tickers:\n",
    "    strategies[ticker] = BuynHold(ticker)\n",
    "    files[ticker] = '{}.csv'.format(ticker)\n",
    "\n",
    "#for strategy in strategies.values():\n",
    "#    strategy.clear()\n",
    "\n",
    "for instrument, file in files.items():\n",
    "    ts.createBook(instrument)\n",
    "    \n",
    "    ts.subscribe(instrument, strategies[instrument])\n",
    "    \n",
    "    data.loadYAHOOHist(file, instrument)\n",
    "    \n",
    "dates = list(data.events.keys())\n",
    "dates.sort()\n",
    "\n",
    "data.run(ts)\n",
    "\n",
    "for strategy in strategies.values():\n",
    "    print(f'{strategy.ticker}:\\n')\n",
    "    ts.submit(strategy.id, strategy.close())\n",
    "    print(strategy.summary())"
   ]
  },
  {
   "cell_type": "markdown",
   "metadata": {},
   "source": [
    "Perceba que os resultados são iguais aos primeiros lá em cima, não há balanceamentos\n",
    "___\n",
    "\n",
    "Agora vamos tentar algo mais ousado:\n",
    "\n",
    "1. Vamos plugar um módulo que irá calcular a alocação baseado em pesos\n",
    "2. As estratégias não irão mais enviar ordens diretamente, mas eventos de sinais\n",
    "3. Esses eventos são capturados pela Estratégia Risk, onde é calculada a quantidade real baseada na carteira\n",
    "4. Essa é uma preparação para encaixar o módulo (estratégia) de risco"
   ]
  },
  {
   "cell_type": "code",
   "execution_count": 29,
   "metadata": {},
   "outputs": [],
   "source": [
    "class Risk(Strategy):\n",
    "    \n",
    "    # Chamado de construtor: inicializa variáveis de suporte\n",
    "    def __init__(self, tickers, cash):\n",
    "        self.tickers = tickers\n",
    "        \n",
    "        self.prices = {}\n",
    "        self.reference = {}\n",
    "        self.qty = {}\n",
    "        self.w = {}\n",
    "        for ticker in self.tickers:\n",
    "            self.prices[ticker] = []\n",
    "            self.reference[ticker] = ''\n",
    "            self.qty[ticker] = 0\n",
    "            self.w[ticker] = 1/len(self.tickers)\n",
    "        \n",
    "        self.tam = 252\n",
    "        self.cash = cash\n",
    "        \n",
    "    # Função chamada a cada preço recebido\n",
    "    def receive(self, event):\n",
    "        \n",
    "        # Se for um evento de sinal\n",
    "        if event.type == 'SIGNAL':\n",
    "\n",
    "            print(self.w)\n",
    "            \n",
    "            # Zera a posição atual\n",
    "            if self.qty[event.instrument] > 0:\n",
    "                self.submit(self.id, Order(event.instrument, Order.S, self.qty[event.instrument], 0))\n",
    "            elif self.qty[event.instrument] < 0:\n",
    "                self.submit(self.id, Order(event.instrument, Order.B, self.qty[event.instrument], 0))\n",
    "            \n",
    "            # Calcula as quantidades do instrumento do evento, baseando-se nos pesos\n",
    "            self.qty[event.instrument] = self.w[event.instrument] * self.cash / event.price\n",
    "            \n",
    "            if self.qty[event.instrument] > 0:\n",
    "                self.submit(self.id, Order(event.instrument, Order.B, self.qty[event.instrument], 0))\n",
    "            elif self.qty[event.instrument] < 0:\n",
    "                self.submit(self.id, Order(event.instrument, Order.SS, self.qty[event.instrument], 0))\n",
    "        \n",
    "           \n",
    "        elif event.type == Event.CANDLE and event.instrument in self.tickers:\n",
    "            \n",
    "            # Se receber um evento de preço, armazena e rebalanceia\n",
    "            \n",
    "            self.prices[event.instrument].append(event.price[3])\n",
    "            \n",
    "            self.reference[event.instrument] = event.timestamp\n",
    "            \n",
    "            # Verificar se as séries estão sincronizadas\n",
    "            sync = True\n",
    "            reference = event.timestamp\n",
    "            for ticker in self.tickers:\n",
    "                if self.reference[ticker] != reference:\n",
    "                    sync = False\n",
    "                \n",
    "            # Verificar se tem tamanho suficiente para os cálculos\n",
    "            if sync and len(self.prices[event.instrument]) >= self.tam:\n",
    "                df = pd.DataFrame()\n",
    "                for ticker in self.tickers:\n",
    "                    df[ticker] = pd.Series(self.prices[ticker][-self.tam:])\n",
    "                \n",
    "                # Análogo aos cálculos no topo do Notebook\n",
    "                keys = df.columns\n",
    "                \n",
    "                avg = df.pct_change().dropna().mean().values\n",
    "                cov = df.pct_change().dropna().cov().values\n",
    "                \n",
    "                inv = np.linalg.inv(cov)\n",
    "                \n",
    "                # Pesos iguais\n",
    "#                 w = [1/len(self.tickers)] * len(self.tickers)\n",
    "\n",
    "                # Cálculo dos pesos\n",
    "                w = inv@avg/(np.ones((1,len(avg)))@inv@avg)\n",
    "                \n",
    "                # Atualização\n",
    "                for i in range(len(keys)):\n",
    "                    self.w[keys[i]] = w[i]\n",
    "                    \n",
    "        \n",
    "\n",
    "# Criando sua estratégia\n",
    "class BuynHold(Strategy):\n",
    "\n",
    "    # Chamado de construtor: inicializa variáveis de suporte\n",
    "    def __init__(self, ticker):\n",
    "        self.ticker = ticker # Armazena o ticker observado\n",
    "        self.bought = False # Indica se já comprou ou não\n",
    "        \n",
    "        self.count = 0\n",
    "\n",
    "    # Função chamada a cada preço recebido\n",
    "    def receive(self, event):\n",
    "        \n",
    "        if event.type == Event.CANDLE and event.instrument == self.ticker:\n",
    "            \n",
    "            self.count += 1\n",
    "            # Se ainda não comprou, faça\n",
    "            if not self.bought and self.count == 253:\n",
    "                self.bought = True\n",
    "\n",
    "                # Envia um evento para o Risk\n",
    "                self.inject(Event(event.instrument, event.timestamp, 'SIGNAL', event.price[3], 1))\n",
    "            \n",
    "            elif self.count > 253:\n",
    "                # Taxa de rebalanceamento em dias úteis\n",
    "                if (self.count - 253) % 252 == 0:\n",
    "                    self.inject(Event(event.instrument, event.timestamp, 'SIGNAL', event.price[3], 1))"
   ]
  },
  {
   "cell_type": "code",
   "execution_count": 30,
   "metadata": {},
   "outputs": [
    {
     "name": "stdout",
     "output_type": "stream",
     "text": [
      "{'ITUB4.SA': 0.3152216866917503, 'VALE3.SA': 0.4910241995841499, 'PETR3.SA': 0.19375411372409998}\n",
      "{'ITUB4.SA': 0.3152216866917503, 'VALE3.SA': 0.4910241995841499, 'PETR3.SA': 0.19375411372409998}\n",
      "{'ITUB4.SA': 0.3152216866917503, 'VALE3.SA': 0.4910241995841499, 'PETR3.SA': 0.19375411372409998}\n",
      "{'ITUB4.SA': 0.15532528970760537, 'VALE3.SA': 0.013419460437169316, 'PETR3.SA': 0.8312552498552254}\n",
      "{'ITUB4.SA': 0.15532528970760537, 'VALE3.SA': 0.013419460437169316, 'PETR3.SA': 0.8312552498552254}\n",
      "{'ITUB4.SA': 0.15532528970760537, 'VALE3.SA': 0.013419460437169316, 'PETR3.SA': 0.8312552498552254}\n",
      "{'ITUB4.SA': -1.434613910066676, 'VALE3.SA': 3.2103348158087215, 'PETR3.SA': -0.7757209057420454}\n",
      "{'ITUB4.SA': -1.434613910066676, 'VALE3.SA': 3.2103348158087215, 'PETR3.SA': -0.7757209057420454}\n",
      "{'ITUB4.SA': -1.434613910066676, 'VALE3.SA': 3.2103348158087215, 'PETR3.SA': -0.7757209057420454}\n",
      "Fechamento:\n",
      "Gross Profit: $3370.77\n",
      "Gross Loss: $0.00\n",
      "Gross Total: $3370.77\n",
      "\n",
      "Number of trades: 1\n",
      "Hitting Ratio: 100.00%\n",
      "Number of profit trades: 1\n",
      "Number of loss trades: 0\n",
      "Average number of events per trade: 591.00\n",
      "\n",
      "Max win trade: $3370.77\n",
      "Avg win trade: $3370.77\n",
      "Max loss trade: $-\n",
      "Avg loss trade: $-\n",
      "Avg all trades: $3370.77\n",
      "Win/Loss ratio: -\n",
      "\n",
      "Max Profit: $4130.12\n",
      "Max Profit High/Low: $6028.66\n",
      "Max Drawdown: $-1365.33\n",
      "Max Drawdown High/Low: $-331.46\n",
      "\n",
      "Max Allocation: $7386.08\n",
      "Avg Allocation: $7386.08\n",
      "Max Cash Required (margin): $7386.08\n",
      "\n",
      "Gross Total: $3370.77\n",
      "Total Fees: $1.80\n",
      "Total Taxes: $505.83\n",
      "Net Total: $2863.14\n",
      "\n",
      "Gross Return: 45.64%\n",
      "Average Return: 45.64%\n",
      "Net Return: 38.76%\n",
      "Net Return Avg Alocation: 38.76%\n",
      "\n",
      "Number of days: 843\n",
      "Initial Capital: $10000.00\n",
      "Risk Free Rate: 13.75% yearly/0.0511% daily\n",
      "Total Carry: $4135.08\n",
      "Net Total + Carry: $6998.22\n",
      "Net Return Capital: 69.98%\n",
      "Net Return Capital Yearly: 17.19%\n",
      "\n",
      "\n"
     ]
    }
   ],
   "source": [
    "data = MarketData()\n",
    "ts = TradingSystem()\n",
    "\n",
    "strategies = {}\n",
    "files = {}\n",
    "for ticker in tickers:\n",
    "    strategies[ticker] = BuynHold(ticker)\n",
    "    files[ticker] = '{}.csv'.format(ticker)\n",
    "\n",
    "risk = Risk(files.keys(), 3000)\n",
    "\n",
    "for instrument, file in files.items():\n",
    "    ts.createBook(instrument)\n",
    "    \n",
    "    ts.subscribe(instrument, strategies[instrument])\n",
    "    ts.subscribe(instrument, risk)\n",
    "    \n",
    "    data.loadYAHOOHist(file, instrument)\n",
    "    \n",
    "data.run(ts)\n",
    "print('Fechamento:')\n",
    "risk.submit(risk.id, risk.close())\n",
    "print(risk.summary())"
   ]
  },
  {
   "cell_type": "markdown",
   "metadata": {},
   "source": [
    "Para saber mais:\n",
    "\n",
    "* Markowitz\n",
    "* Fronteira Eficiente\n",
    "* Otimização de carteiras\n",
    "* Asset Allocation"
   ]
  }
 ],
 "metadata": {
  "kernelspec": {
   "display_name": "Python 3 (ipykernel)",
   "language": "python",
   "name": "python3"
  },
  "language_info": {
   "codemirror_mode": {
    "name": "ipython",
    "version": 3
   },
   "file_extension": ".py",
   "mimetype": "text/x-python",
   "name": "python",
   "nbconvert_exporter": "python",
   "pygments_lexer": "ipython3",
   "version": "3.10.6"
  }
 },
 "nbformat": 4,
 "nbformat_minor": 2
}
