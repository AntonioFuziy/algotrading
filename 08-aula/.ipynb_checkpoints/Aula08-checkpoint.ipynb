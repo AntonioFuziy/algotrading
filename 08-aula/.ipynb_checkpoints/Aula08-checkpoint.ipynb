{
 "cells": [
  {
   "cell_type": "markdown",
   "metadata": {
    "id": "7cKlpoTBBbQy"
   },
   "source": [
    "# Algotrading - Aula 08\n",
    "\n",
    "Modelos Direcionais - Machine Learning\n",
    "\n",
    "Objetivo: Realizar o backtesting de modelos direcionais que usam ML\n"
   ]
  },
  {
   "cell_type": "code",
   "execution_count": 2,
   "metadata": {
    "id": "6MjXh8LnBbQ7"
   },
   "outputs": [],
   "source": [
    "%matplotlib inline\n",
    "\n",
    "import numpy as np\n",
    "import pandas as pd\n",
    "import matplotlib.pyplot as plt\n",
    "import time\n",
    "from datetime import datetime\n",
    "import random\n",
    "import scipy.optimize as sco\n",
    "from scipy.stats import norm, lognorm\n",
    "import scipy.stats\n",
    "import seaborn as sns\n",
    "\n",
    "# Para fazer o backtesting\n",
    "from backtesting_v2_1 import TradingSystem, MarketData, Order, Strategy, Event, evaluateHist\n",
    "\n",
    "import warnings\n",
    "warnings.filterwarnings('ignore')"
   ]
  },
  {
   "cell_type": "code",
   "execution_count": 3,
   "metadata": {
    "id": "NHpuDUncBkST"
   },
   "outputs": [],
   "source": [
    "!pip install yahoofinancials --quiet"
   ]
  },
  {
   "cell_type": "markdown",
   "metadata": {
    "id": "fOujRaVWBbQ-"
   },
   "source": [
    "#### 1. Coletando dados\n",
    "\n",
    "Vamos trabalhar com apenas uma ação para simplificar o problema. Buscando 10 anos de dados"
   ]
  },
  {
   "cell_type": "code",
   "execution_count": 4,
   "metadata": {
    "id": "khXYN0K4BbQ_"
   },
   "outputs": [],
   "source": [
    "import yahoofinancials as yf\n",
    "tickers = ['BOVA11.SA']\n",
    "\n",
    "start_date = '2013-04-10'\n",
    "end_date =  '2023-04-10'\n",
    "\n",
    "for ticker in tickers:\n",
    "    data = yf.YahooFinancials(ticker).get_historical_price_data(start_date, end_date, 'daily')\n",
    "\n",
    "    # Ler os dados do JSON\n",
    "    raw = pd.DataFrame(data[ticker]['prices']).dropna()\n",
    "    # Converter a data para o tipo correto datetime\n",
    "    raw['formatted_date'] = pd.to_datetime(raw['formatted_date'])\n",
    "    # Indica a data como o índice de cada linha\n",
    "    raw = raw.set_index('formatted_date')\n",
    "    # Removendo as colunas que não interessam\n",
    "    df = raw.iloc[:,1:]\n",
    "\n",
    "    # Acertando a ordem das colunas\n",
    "    df = df.reindex(columns=['open', 'high', 'low', 'close', 'adjclose', 'volume'])\n",
    "    # Salvando o CSV\n",
    "    df.iloc[:-252,:].to_csv('{}-train.csv'.format(ticker))\n",
    "    df.iloc[-252:,:].to_csv('{}-back.csv'.format(ticker))"
   ]
  },
  {
   "cell_type": "markdown",
   "metadata": {
    "id": "OUZQqF0CBbRA"
   },
   "source": [
    "**Um ponto muito importante**: Note que o último ano será salvo em um arquivo a parte e estará imaculado até fazermos o backtesting. Isso é importante para não contaminar o treinamento."
   ]
  },
  {
   "cell_type": "code",
   "execution_count": 5,
   "metadata": {
    "colab": {
     "base_uri": "https://localhost:8080/",
     "height": 455
    },
    "id": "ss9LVmLPBbRA",
    "outputId": "6ba7fc85-18be-47c1-b055-2d4131bb8602"
   },
   "outputs": [
    {
     "data": {
      "text/html": [
       "<div>\n",
       "<style scoped>\n",
       "    .dataframe tbody tr th:only-of-type {\n",
       "        vertical-align: middle;\n",
       "    }\n",
       "\n",
       "    .dataframe tbody tr th {\n",
       "        vertical-align: top;\n",
       "    }\n",
       "\n",
       "    .dataframe thead th {\n",
       "        text-align: right;\n",
       "    }\n",
       "</style>\n",
       "<table border=\"1\" class=\"dataframe\">\n",
       "  <thead>\n",
       "    <tr style=\"text-align: right;\">\n",
       "      <th></th>\n",
       "      <th>open</th>\n",
       "      <th>high</th>\n",
       "      <th>low</th>\n",
       "      <th>close</th>\n",
       "      <th>volume</th>\n",
       "    </tr>\n",
       "    <tr>\n",
       "      <th>formatted_date</th>\n",
       "      <th></th>\n",
       "      <th></th>\n",
       "      <th></th>\n",
       "      <th></th>\n",
       "      <th></th>\n",
       "    </tr>\n",
       "  </thead>\n",
       "  <tbody>\n",
       "    <tr>\n",
       "      <th>2013-04-10</th>\n",
       "      <td>55.049999</td>\n",
       "      <td>55.889999</td>\n",
       "      <td>54.959999</td>\n",
       "      <td>55.009998</td>\n",
       "      <td>1453190</td>\n",
       "    </tr>\n",
       "    <tr>\n",
       "      <th>2013-04-11</th>\n",
       "      <td>55.349998</td>\n",
       "      <td>55.349998</td>\n",
       "      <td>54.020000</td>\n",
       "      <td>54.150002</td>\n",
       "      <td>911500</td>\n",
       "    </tr>\n",
       "    <tr>\n",
       "      <th>2013-04-12</th>\n",
       "      <td>54.020000</td>\n",
       "      <td>54.410000</td>\n",
       "      <td>53.369999</td>\n",
       "      <td>53.730000</td>\n",
       "      <td>3114180</td>\n",
       "    </tr>\n",
       "    <tr>\n",
       "      <th>2013-04-15</th>\n",
       "      <td>53.099998</td>\n",
       "      <td>53.139999</td>\n",
       "      <td>51.950001</td>\n",
       "      <td>51.950001</td>\n",
       "      <td>2159140</td>\n",
       "    </tr>\n",
       "    <tr>\n",
       "      <th>2013-04-16</th>\n",
       "      <td>52.490002</td>\n",
       "      <td>53.000000</td>\n",
       "      <td>52.090000</td>\n",
       "      <td>52.869999</td>\n",
       "      <td>1555670</td>\n",
       "    </tr>\n",
       "    <tr>\n",
       "      <th>...</th>\n",
       "      <td>...</td>\n",
       "      <td>...</td>\n",
       "      <td>...</td>\n",
       "      <td>...</td>\n",
       "      <td>...</td>\n",
       "    </tr>\n",
       "    <tr>\n",
       "      <th>2022-03-30</th>\n",
       "      <td>115.800003</td>\n",
       "      <td>116.099998</td>\n",
       "      <td>115.330002</td>\n",
       "      <td>115.900002</td>\n",
       "      <td>4049154</td>\n",
       "    </tr>\n",
       "    <tr>\n",
       "      <th>2022-03-31</th>\n",
       "      <td>115.910004</td>\n",
       "      <td>116.449997</td>\n",
       "      <td>115.570000</td>\n",
       "      <td>115.599998</td>\n",
       "      <td>4841330</td>\n",
       "    </tr>\n",
       "    <tr>\n",
       "      <th>2022-04-01</th>\n",
       "      <td>116.580002</td>\n",
       "      <td>117.220001</td>\n",
       "      <td>116.559998</td>\n",
       "      <td>117.199997</td>\n",
       "      <td>5899396</td>\n",
       "    </tr>\n",
       "    <tr>\n",
       "      <th>2022-04-04</th>\n",
       "      <td>116.849998</td>\n",
       "      <td>117.059998</td>\n",
       "      <td>116.279999</td>\n",
       "      <td>116.800003</td>\n",
       "      <td>2246064</td>\n",
       "    </tr>\n",
       "    <tr>\n",
       "      <th>2022-04-05</th>\n",
       "      <td>116.709999</td>\n",
       "      <td>117.099998</td>\n",
       "      <td>114.379997</td>\n",
       "      <td>114.510002</td>\n",
       "      <td>7448946</td>\n",
       "    </tr>\n",
       "  </tbody>\n",
       "</table>\n",
       "<p>2233 rows × 5 columns</p>\n",
       "</div>"
      ],
      "text/plain": [
       "                      open        high         low       close   volume\n",
       "formatted_date                                                         \n",
       "2013-04-10       55.049999   55.889999   54.959999   55.009998  1453190\n",
       "2013-04-11       55.349998   55.349998   54.020000   54.150002   911500\n",
       "2013-04-12       54.020000   54.410000   53.369999   53.730000  3114180\n",
       "2013-04-15       53.099998   53.139999   51.950001   51.950001  2159140\n",
       "2013-04-16       52.490002   53.000000   52.090000   52.869999  1555670\n",
       "...                    ...         ...         ...         ...      ...\n",
       "2022-03-30      115.800003  116.099998  115.330002  115.900002  4049154\n",
       "2022-03-31      115.910004  116.449997  115.570000  115.599998  4841330\n",
       "2022-04-01      116.580002  117.220001  116.559998  117.199997  5899396\n",
       "2022-04-04      116.849998  117.059998  116.279999  116.800003  2246064\n",
       "2022-04-05      116.709999  117.099998  114.379997  114.510002  7448946\n",
       "\n",
       "[2233 rows x 5 columns]"
      ]
     },
     "execution_count": 5,
     "metadata": {},
     "output_type": "execute_result"
    }
   ],
   "source": [
    "df = pd.DataFrame()\n",
    "for ticker in tickers:\n",
    "    df = pd.read_csv('{}-train.csv'.format(ticker))\n",
    "\n",
    "df = df.set_index('formatted_date')\n",
    "df = df.drop('adjclose', axis=1).dropna()\n",
    "df"
   ]
  },
  {
   "cell_type": "markdown",
   "metadata": {
    "id": "GsRwLOu9BbRB"
   },
   "source": [
    "#### 2. Extração de Features\n",
    "\n",
    "Nossa primeira tentativa vai ser com os retornos"
   ]
  },
  {
   "cell_type": "code",
   "execution_count": 6,
   "metadata": {
    "colab": {
     "base_uri": "https://localhost:8080/",
     "height": 455
    },
    "id": "xQhhO9BwBbRC",
    "outputId": "e1633f18-87db-4f44-a883-777ec5a9f4c0"
   },
   "outputs": [
    {
     "data": {
      "text/html": [
       "<div>\n",
       "<style scoped>\n",
       "    .dataframe tbody tr th:only-of-type {\n",
       "        vertical-align: middle;\n",
       "    }\n",
       "\n",
       "    .dataframe tbody tr th {\n",
       "        vertical-align: top;\n",
       "    }\n",
       "\n",
       "    .dataframe thead th {\n",
       "        text-align: right;\n",
       "    }\n",
       "</style>\n",
       "<table border=\"1\" class=\"dataframe\">\n",
       "  <thead>\n",
       "    <tr style=\"text-align: right;\">\n",
       "      <th></th>\n",
       "      <th>L0</th>\n",
       "    </tr>\n",
       "    <tr>\n",
       "      <th>formatted_date</th>\n",
       "      <th></th>\n",
       "    </tr>\n",
       "  </thead>\n",
       "  <tbody>\n",
       "    <tr>\n",
       "      <th>2013-04-10</th>\n",
       "      <td>NaN</td>\n",
       "    </tr>\n",
       "    <tr>\n",
       "      <th>2013-04-11</th>\n",
       "      <td>-0.015633</td>\n",
       "    </tr>\n",
       "    <tr>\n",
       "      <th>2013-04-12</th>\n",
       "      <td>-0.007756</td>\n",
       "    </tr>\n",
       "    <tr>\n",
       "      <th>2013-04-15</th>\n",
       "      <td>-0.033129</td>\n",
       "    </tr>\n",
       "    <tr>\n",
       "      <th>2013-04-16</th>\n",
       "      <td>0.017709</td>\n",
       "    </tr>\n",
       "    <tr>\n",
       "      <th>...</th>\n",
       "      <td>...</td>\n",
       "    </tr>\n",
       "    <tr>\n",
       "      <th>2022-03-30</th>\n",
       "      <td>0.001296</td>\n",
       "    </tr>\n",
       "    <tr>\n",
       "      <th>2022-03-31</th>\n",
       "      <td>-0.002588</td>\n",
       "    </tr>\n",
       "    <tr>\n",
       "      <th>2022-04-01</th>\n",
       "      <td>0.013841</td>\n",
       "    </tr>\n",
       "    <tr>\n",
       "      <th>2022-04-04</th>\n",
       "      <td>-0.003413</td>\n",
       "    </tr>\n",
       "    <tr>\n",
       "      <th>2022-04-05</th>\n",
       "      <td>-0.019606</td>\n",
       "    </tr>\n",
       "  </tbody>\n",
       "</table>\n",
       "<p>2233 rows × 1 columns</p>\n",
       "</div>"
      ],
      "text/plain": [
       "                      L0\n",
       "formatted_date          \n",
       "2013-04-10           NaN\n",
       "2013-04-11     -0.015633\n",
       "2013-04-12     -0.007756\n",
       "2013-04-15     -0.033129\n",
       "2013-04-16      0.017709\n",
       "...                  ...\n",
       "2022-03-30      0.001296\n",
       "2022-03-31     -0.002588\n",
       "2022-04-01      0.013841\n",
       "2022-04-04     -0.003413\n",
       "2022-04-05     -0.019606\n",
       "\n",
       "[2233 rows x 1 columns]"
      ]
     },
     "execution_count": 6,
     "metadata": {},
     "output_type": "execute_result"
    }
   ],
   "source": [
    "ret = pd.DataFrame({'L0': df['close'].pct_change()})\n",
    "ret"
   ]
  },
  {
   "cell_type": "markdown",
   "metadata": {
    "id": "C8nNlWZHBbRD"
   },
   "source": [
    "Vamos adicionar retornos passados (lag) na mesma linha para a entrada dos modelos"
   ]
  },
  {
   "cell_type": "code",
   "execution_count": 7,
   "metadata": {
    "colab": {
     "base_uri": "https://localhost:8080/",
     "height": 300
    },
    "id": "0xTdP5SEBbRE",
    "outputId": "2dd4a0cc-d3e1-4e2e-c5e3-17bfd534947e"
   },
   "outputs": [
    {
     "data": {
      "text/html": [
       "<div>\n",
       "<style scoped>\n",
       "    .dataframe tbody tr th:only-of-type {\n",
       "        vertical-align: middle;\n",
       "    }\n",
       "\n",
       "    .dataframe tbody tr th {\n",
       "        vertical-align: top;\n",
       "    }\n",
       "\n",
       "    .dataframe thead th {\n",
       "        text-align: right;\n",
       "    }\n",
       "</style>\n",
       "<table border=\"1\" class=\"dataframe\">\n",
       "  <thead>\n",
       "    <tr style=\"text-align: right;\">\n",
       "      <th></th>\n",
       "      <th>L0</th>\n",
       "      <th>L1</th>\n",
       "      <th>L2</th>\n",
       "      <th>L3</th>\n",
       "      <th>L4</th>\n",
       "    </tr>\n",
       "    <tr>\n",
       "      <th>formatted_date</th>\n",
       "      <th></th>\n",
       "      <th></th>\n",
       "      <th></th>\n",
       "      <th></th>\n",
       "      <th></th>\n",
       "    </tr>\n",
       "  </thead>\n",
       "  <tbody>\n",
       "    <tr>\n",
       "      <th>2013-04-10</th>\n",
       "      <td>NaN</td>\n",
       "      <td>NaN</td>\n",
       "      <td>NaN</td>\n",
       "      <td>NaN</td>\n",
       "      <td>NaN</td>\n",
       "    </tr>\n",
       "    <tr>\n",
       "      <th>2013-04-11</th>\n",
       "      <td>-0.015633</td>\n",
       "      <td>NaN</td>\n",
       "      <td>NaN</td>\n",
       "      <td>NaN</td>\n",
       "      <td>NaN</td>\n",
       "    </tr>\n",
       "    <tr>\n",
       "      <th>2013-04-12</th>\n",
       "      <td>-0.007756</td>\n",
       "      <td>-0.015633</td>\n",
       "      <td>NaN</td>\n",
       "      <td>NaN</td>\n",
       "      <td>NaN</td>\n",
       "    </tr>\n",
       "    <tr>\n",
       "      <th>2013-04-15</th>\n",
       "      <td>-0.033129</td>\n",
       "      <td>-0.007756</td>\n",
       "      <td>-0.015633</td>\n",
       "      <td>NaN</td>\n",
       "      <td>NaN</td>\n",
       "    </tr>\n",
       "    <tr>\n",
       "      <th>2013-04-16</th>\n",
       "      <td>0.017709</td>\n",
       "      <td>-0.033129</td>\n",
       "      <td>-0.007756</td>\n",
       "      <td>-0.015633</td>\n",
       "      <td>NaN</td>\n",
       "    </tr>\n",
       "    <tr>\n",
       "      <th>2013-04-17</th>\n",
       "      <td>-0.019860</td>\n",
       "      <td>0.017709</td>\n",
       "      <td>-0.033129</td>\n",
       "      <td>-0.007756</td>\n",
       "      <td>-0.015633</td>\n",
       "    </tr>\n",
       "    <tr>\n",
       "      <th>2013-04-18</th>\n",
       "      <td>0.004245</td>\n",
       "      <td>-0.019860</td>\n",
       "      <td>0.017709</td>\n",
       "      <td>-0.033129</td>\n",
       "      <td>-0.007756</td>\n",
       "    </tr>\n",
       "  </tbody>\n",
       "</table>\n",
       "</div>"
      ],
      "text/plain": [
       "                      L0        L1        L2        L3        L4\n",
       "formatted_date                                                  \n",
       "2013-04-10           NaN       NaN       NaN       NaN       NaN\n",
       "2013-04-11     -0.015633       NaN       NaN       NaN       NaN\n",
       "2013-04-12     -0.007756 -0.015633       NaN       NaN       NaN\n",
       "2013-04-15     -0.033129 -0.007756 -0.015633       NaN       NaN\n",
       "2013-04-16      0.017709 -0.033129 -0.007756 -0.015633       NaN\n",
       "2013-04-17     -0.019860  0.017709 -0.033129 -0.007756 -0.015633\n",
       "2013-04-18      0.004245 -0.019860  0.017709 -0.033129 -0.007756"
      ]
     },
     "execution_count": 7,
     "metadata": {},
     "output_type": "execute_result"
    }
   ],
   "source": [
    "w = 5\n",
    "for i in range(w):\n",
    "    ret['L{}'.format(i)] = ret['L0'].shift(i)\n",
    "\n",
    "ret.head(7)"
   ]
  },
  {
   "cell_type": "markdown",
   "metadata": {
    "id": "m233zZ8UBbRF"
   },
   "source": [
    "Agora vamos gerar o sinal de referência na sua for mais simples: -1, 0 e 1"
   ]
  },
  {
   "cell_type": "code",
   "execution_count": 8,
   "metadata": {
    "colab": {
     "base_uri": "https://localhost:8080/",
     "height": 455
    },
    "id": "gMnUR397BbRF",
    "outputId": "497e69c4-f957-4a96-b7d4-5935b6e4eb0b"
   },
   "outputs": [
    {
     "data": {
      "text/html": [
       "<div>\n",
       "<style scoped>\n",
       "    .dataframe tbody tr th:only-of-type {\n",
       "        vertical-align: middle;\n",
       "    }\n",
       "\n",
       "    .dataframe tbody tr th {\n",
       "        vertical-align: top;\n",
       "    }\n",
       "\n",
       "    .dataframe thead th {\n",
       "        text-align: right;\n",
       "    }\n",
       "</style>\n",
       "<table border=\"1\" class=\"dataframe\">\n",
       "  <thead>\n",
       "    <tr style=\"text-align: right;\">\n",
       "      <th></th>\n",
       "      <th>L0</th>\n",
       "      <th>L1</th>\n",
       "      <th>L2</th>\n",
       "      <th>L3</th>\n",
       "      <th>L4</th>\n",
       "      <th>sig</th>\n",
       "    </tr>\n",
       "    <tr>\n",
       "      <th>formatted_date</th>\n",
       "      <th></th>\n",
       "      <th></th>\n",
       "      <th></th>\n",
       "      <th></th>\n",
       "      <th></th>\n",
       "      <th></th>\n",
       "    </tr>\n",
       "  </thead>\n",
       "  <tbody>\n",
       "    <tr>\n",
       "      <th>2013-04-17</th>\n",
       "      <td>-0.019860</td>\n",
       "      <td>0.017709</td>\n",
       "      <td>-0.033129</td>\n",
       "      <td>-0.007756</td>\n",
       "      <td>-0.015633</td>\n",
       "      <td>-1.0</td>\n",
       "    </tr>\n",
       "    <tr>\n",
       "      <th>2013-04-18</th>\n",
       "      <td>0.004245</td>\n",
       "      <td>-0.019860</td>\n",
       "      <td>0.017709</td>\n",
       "      <td>-0.033129</td>\n",
       "      <td>-0.007756</td>\n",
       "      <td>1.0</td>\n",
       "    </tr>\n",
       "    <tr>\n",
       "      <th>2013-04-19</th>\n",
       "      <td>0.013259</td>\n",
       "      <td>0.004245</td>\n",
       "      <td>-0.019860</td>\n",
       "      <td>0.017709</td>\n",
       "      <td>-0.033129</td>\n",
       "      <td>1.0</td>\n",
       "    </tr>\n",
       "    <tr>\n",
       "      <th>2013-04-22</th>\n",
       "      <td>0.008155</td>\n",
       "      <td>0.013259</td>\n",
       "      <td>0.004245</td>\n",
       "      <td>-0.019860</td>\n",
       "      <td>0.017709</td>\n",
       "      <td>1.0</td>\n",
       "    </tr>\n",
       "    <tr>\n",
       "      <th>2013-04-23</th>\n",
       "      <td>0.009970</td>\n",
       "      <td>0.008155</td>\n",
       "      <td>0.013259</td>\n",
       "      <td>0.004245</td>\n",
       "      <td>-0.019860</td>\n",
       "      <td>1.0</td>\n",
       "    </tr>\n",
       "    <tr>\n",
       "      <th>...</th>\n",
       "      <td>...</td>\n",
       "      <td>...</td>\n",
       "      <td>...</td>\n",
       "      <td>...</td>\n",
       "      <td>...</td>\n",
       "      <td>...</td>\n",
       "    </tr>\n",
       "    <tr>\n",
       "      <th>2022-03-30</th>\n",
       "      <td>0.001296</td>\n",
       "      <td>0.010829</td>\n",
       "      <td>-0.002091</td>\n",
       "      <td>0.000087</td>\n",
       "      <td>0.016298</td>\n",
       "      <td>1.0</td>\n",
       "    </tr>\n",
       "    <tr>\n",
       "      <th>2022-03-31</th>\n",
       "      <td>-0.002588</td>\n",
       "      <td>0.001296</td>\n",
       "      <td>0.010829</td>\n",
       "      <td>-0.002091</td>\n",
       "      <td>0.000087</td>\n",
       "      <td>-1.0</td>\n",
       "    </tr>\n",
       "    <tr>\n",
       "      <th>2022-04-01</th>\n",
       "      <td>0.013841</td>\n",
       "      <td>-0.002588</td>\n",
       "      <td>0.001296</td>\n",
       "      <td>0.010829</td>\n",
       "      <td>-0.002091</td>\n",
       "      <td>1.0</td>\n",
       "    </tr>\n",
       "    <tr>\n",
       "      <th>2022-04-04</th>\n",
       "      <td>-0.003413</td>\n",
       "      <td>0.013841</td>\n",
       "      <td>-0.002588</td>\n",
       "      <td>0.001296</td>\n",
       "      <td>0.010829</td>\n",
       "      <td>-1.0</td>\n",
       "    </tr>\n",
       "    <tr>\n",
       "      <th>2022-04-05</th>\n",
       "      <td>-0.019606</td>\n",
       "      <td>-0.003413</td>\n",
       "      <td>0.013841</td>\n",
       "      <td>-0.002588</td>\n",
       "      <td>0.001296</td>\n",
       "      <td>-1.0</td>\n",
       "    </tr>\n",
       "  </tbody>\n",
       "</table>\n",
       "<p>2228 rows × 6 columns</p>\n",
       "</div>"
      ],
      "text/plain": [
       "                      L0        L1        L2        L3        L4  sig\n",
       "formatted_date                                                       \n",
       "2013-04-17     -0.019860  0.017709 -0.033129 -0.007756 -0.015633 -1.0\n",
       "2013-04-18      0.004245 -0.019860  0.017709 -0.033129 -0.007756  1.0\n",
       "2013-04-19      0.013259  0.004245 -0.019860  0.017709 -0.033129  1.0\n",
       "2013-04-22      0.008155  0.013259  0.004245 -0.019860  0.017709  1.0\n",
       "2013-04-23      0.009970  0.008155  0.013259  0.004245 -0.019860  1.0\n",
       "...                  ...       ...       ...       ...       ...  ...\n",
       "2022-03-30      0.001296  0.010829 -0.002091  0.000087  0.016298  1.0\n",
       "2022-03-31     -0.002588  0.001296  0.010829 -0.002091  0.000087 -1.0\n",
       "2022-04-01      0.013841 -0.002588  0.001296  0.010829 -0.002091  1.0\n",
       "2022-04-04     -0.003413  0.013841 -0.002588  0.001296  0.010829 -1.0\n",
       "2022-04-05     -0.019606 -0.003413  0.013841 -0.002588  0.001296 -1.0\n",
       "\n",
       "[2228 rows x 6 columns]"
      ]
     },
     "execution_count": 8,
     "metadata": {},
     "output_type": "execute_result"
    }
   ],
   "source": [
    "import math\n",
    "\n",
    "def signal(x):\n",
    "    if pd.isnull(x):\n",
    "        return x\n",
    "    elif x > 0:\n",
    "        return 1\n",
    "    elif x < 0:\n",
    "        return  -1\n",
    "    else:\n",
    "        return 0\n",
    "\n",
    "ret['sig'] = pd.Categorical(ret['L0'].apply(signal))\n",
    "ret = ret.dropna()\n",
    "ret"
   ]
  },
  {
   "cell_type": "markdown",
   "metadata": {
    "id": "JWKo4vhLBbRG"
   },
   "source": [
    "Alguns ajustes antes de realizar o treinamento: \n",
    "    \n",
    "separar o sinal do resto"
   ]
  },
  {
   "cell_type": "code",
   "execution_count": 9,
   "metadata": {
    "id": "hee9RbDxBbRH"
   },
   "outputs": [],
   "source": [
    "sig = ret['sig']\n",
    "ret = ret.drop('sig', axis=1)"
   ]
  },
  {
   "cell_type": "markdown",
   "metadata": {
    "id": "wQ0jkMVnBbRH"
   },
   "source": [
    "Fazendo a separação entre treinamento e testes (não inclui aquela separação inicial)"
   ]
  },
  {
   "cell_type": "code",
   "execution_count": 11,
   "metadata": {
    "id": "FXp1PidrBbRH"
   },
   "outputs": [],
   "source": [
    "from sklearn.model_selection import train_test_split\n",
    "\n",
    "X_train, X_test, y_train, y_test = train_test_split(ret, sig, test_size=0.20, shuffle=False)"
   ]
  },
  {
   "cell_type": "markdown",
   "metadata": {
    "id": "VN--Iq31BbRI"
   },
   "source": [
    "Para a escolha do modelo, vamos dar uma olhada em: https://scikit-learn.org/stable/tutorial/machine_learning_map/index.html"
   ]
  },
  {
   "cell_type": "code",
   "execution_count": 12,
   "metadata": {
    "colab": {
     "base_uri": "https://localhost:8080/"
    },
    "id": "tvRa7qvdBbRI",
    "outputId": "a2f309b5-40a4-43f9-8436-c75bdf16426f"
   },
   "outputs": [
    {
     "data": {
      "text/html": [
       "<style>#sk-container-id-1 {color: black;background-color: white;}#sk-container-id-1 pre{padding: 0;}#sk-container-id-1 div.sk-toggleable {background-color: white;}#sk-container-id-1 label.sk-toggleable__label {cursor: pointer;display: block;width: 100%;margin-bottom: 0;padding: 0.3em;box-sizing: border-box;text-align: center;}#sk-container-id-1 label.sk-toggleable__label-arrow:before {content: \"▸\";float: left;margin-right: 0.25em;color: #696969;}#sk-container-id-1 label.sk-toggleable__label-arrow:hover:before {color: black;}#sk-container-id-1 div.sk-estimator:hover label.sk-toggleable__label-arrow:before {color: black;}#sk-container-id-1 div.sk-toggleable__content {max-height: 0;max-width: 0;overflow: hidden;text-align: left;background-color: #f0f8ff;}#sk-container-id-1 div.sk-toggleable__content pre {margin: 0.2em;color: black;border-radius: 0.25em;background-color: #f0f8ff;}#sk-container-id-1 input.sk-toggleable__control:checked~div.sk-toggleable__content {max-height: 200px;max-width: 100%;overflow: auto;}#sk-container-id-1 input.sk-toggleable__control:checked~label.sk-toggleable__label-arrow:before {content: \"▾\";}#sk-container-id-1 div.sk-estimator input.sk-toggleable__control:checked~label.sk-toggleable__label {background-color: #d4ebff;}#sk-container-id-1 div.sk-label input.sk-toggleable__control:checked~label.sk-toggleable__label {background-color: #d4ebff;}#sk-container-id-1 input.sk-hidden--visually {border: 0;clip: rect(1px 1px 1px 1px);clip: rect(1px, 1px, 1px, 1px);height: 1px;margin: -1px;overflow: hidden;padding: 0;position: absolute;width: 1px;}#sk-container-id-1 div.sk-estimator {font-family: monospace;background-color: #f0f8ff;border: 1px dotted black;border-radius: 0.25em;box-sizing: border-box;margin-bottom: 0.5em;}#sk-container-id-1 div.sk-estimator:hover {background-color: #d4ebff;}#sk-container-id-1 div.sk-parallel-item::after {content: \"\";width: 100%;border-bottom: 1px solid gray;flex-grow: 1;}#sk-container-id-1 div.sk-label:hover label.sk-toggleable__label {background-color: #d4ebff;}#sk-container-id-1 div.sk-serial::before {content: \"\";position: absolute;border-left: 1px solid gray;box-sizing: border-box;top: 0;bottom: 0;left: 50%;z-index: 0;}#sk-container-id-1 div.sk-serial {display: flex;flex-direction: column;align-items: center;background-color: white;padding-right: 0.2em;padding-left: 0.2em;position: relative;}#sk-container-id-1 div.sk-item {position: relative;z-index: 1;}#sk-container-id-1 div.sk-parallel {display: flex;align-items: stretch;justify-content: center;background-color: white;position: relative;}#sk-container-id-1 div.sk-item::before, #sk-container-id-1 div.sk-parallel-item::before {content: \"\";position: absolute;border-left: 1px solid gray;box-sizing: border-box;top: 0;bottom: 0;left: 50%;z-index: -1;}#sk-container-id-1 div.sk-parallel-item {display: flex;flex-direction: column;z-index: 1;position: relative;background-color: white;}#sk-container-id-1 div.sk-parallel-item:first-child::after {align-self: flex-end;width: 50%;}#sk-container-id-1 div.sk-parallel-item:last-child::after {align-self: flex-start;width: 50%;}#sk-container-id-1 div.sk-parallel-item:only-child::after {width: 0;}#sk-container-id-1 div.sk-dashed-wrapped {border: 1px dashed gray;margin: 0 0.4em 0.5em 0.4em;box-sizing: border-box;padding-bottom: 0.4em;background-color: white;}#sk-container-id-1 div.sk-label label {font-family: monospace;font-weight: bold;display: inline-block;line-height: 1.2em;}#sk-container-id-1 div.sk-label-container {text-align: center;}#sk-container-id-1 div.sk-container {/* jupyter's `normalize.less` sets `[hidden] { display: none; }` but bootstrap.min.css set `[hidden] { display: none !important; }` so we also need the `!important` here to be able to override the default hidden behavior on the sphinx rendered scikit-learn.org. See: https://github.com/scikit-learn/scikit-learn/issues/21755 */display: inline-block !important;position: relative;}#sk-container-id-1 div.sk-text-repr-fallback {display: none;}</style><div id=\"sk-container-id-1\" class=\"sk-top-container\"><div class=\"sk-text-repr-fallback\"><pre>GradientBoostingClassifier(learning_rate=1.0, max_depth=1, random_state=0)</pre><b>In a Jupyter environment, please rerun this cell to show the HTML representation or trust the notebook. <br />On GitHub, the HTML representation is unable to render, please try loading this page with nbviewer.org.</b></div><div class=\"sk-container\" hidden><div class=\"sk-item\"><div class=\"sk-estimator sk-toggleable\"><input class=\"sk-toggleable__control sk-hidden--visually\" id=\"sk-estimator-id-1\" type=\"checkbox\" checked><label for=\"sk-estimator-id-1\" class=\"sk-toggleable__label sk-toggleable__label-arrow\">GradientBoostingClassifier</label><div class=\"sk-toggleable__content\"><pre>GradientBoostingClassifier(learning_rate=1.0, max_depth=1, random_state=0)</pre></div></div></div></div></div>"
      ],
      "text/plain": [
       "GradientBoostingClassifier(learning_rate=1.0, max_depth=1, random_state=0)"
      ]
     },
     "execution_count": 12,
     "metadata": {},
     "output_type": "execute_result"
    }
   ],
   "source": [
    "from sklearn.linear_model import SGDClassifier\n",
    "from sklearn import svm\n",
    "from sklearn.neighbors import NearestNeighbors\n",
    "from sklearn.ensemble import GradientBoostingClassifier\n",
    "\n",
    "clf = SGDClassifier(loss=\"hinge\", penalty=\"l2\", max_iter=100)\n",
    "#clf = svm.SVC(decision_function_shape='ovo')\n",
    "clf = GradientBoostingClassifier(n_estimators=100, learning_rate=1.0, max_depth=1, random_state=0).fit(X_train, y_train)\n",
    "\n",
    "clf.fit(X_train, y_train)"
   ]
  },
  {
   "cell_type": "markdown",
   "metadata": {
    "id": "6xD2JzTTBbRJ"
   },
   "source": [
    "Chegou a hora de avaliar o modelo. Por ser um classificador, vamos ver a matriz de confusão:"
   ]
  },
  {
   "cell_type": "code",
   "execution_count": 13,
   "metadata": {
    "colab": {
     "base_uri": "https://localhost:8080/"
    },
    "id": "cdW4pV7VBbRJ",
    "outputId": "fdb1211f-a67e-4c47-8747-e2952907b32c"
   },
   "outputs": [
    {
     "data": {
      "text/plain": [
       "array([[209,   0,   0],\n",
       "       [  0,   1,   0],\n",
       "       [  0,   0, 236]])"
      ]
     },
     "execution_count": 13,
     "metadata": {},
     "output_type": "execute_result"
    }
   ],
   "source": [
    "from sklearn.metrics import classification_report, confusion_matrix\n",
    "import seaborn as sns\n",
    "\n",
    "y_pred = clf.predict(X_test)\n",
    "\n",
    "cm = confusion_matrix(y_test, y_pred, labels=[-1, 0, 1])\n",
    "\n",
    "cm"
   ]
  },
  {
   "cell_type": "code",
   "execution_count": 14,
   "metadata": {
    "colab": {
     "base_uri": "https://localhost:8080/",
     "height": 271
    },
    "id": "xXduamOPBbRJ",
    "outputId": "e64c0387-40bf-4811-c96e-565ae2f2ae3f"
   },
   "outputs": [
    {
     "data": {
      "image/png": "[encoded data removed]",
      "text/plain": [
       "<Figure size 640x480 with 2 Axes>"
      ]
     },
     "metadata": {},
     "output_type": "display_data"
    }
   ],
   "source": [
    "x = pd.DataFrame(cm, index=['-1', '0', '1'], columns=['-1', '0', '1'])\n",
    "\n",
    "labels = ['-1', '0', '1']\n",
    "\n",
    "fig = plt.figure()\n",
    "ax = fig.add_subplot(111)\n",
    "\n",
    "cax = ax.matshow(x, cmap='Greens');\n",
    "plt.colorbar(cax);\n",
    "ax.set_xticklabels(['']+labels);\n",
    "ax.set_yticklabels(['']+labels);\n",
    "\n",
    "plt.show()\n"
   ]
  },
  {
   "cell_type": "markdown",
   "metadata": {
    "id": "KjyCB0AUBbRK"
   },
   "source": [
    "E as medidas de precision/recall\n",
    "\n",
    "Precision: qual o percentual de acerto da sua própria previsão (mais próximo de 1, melhor)\n",
    "\n",
    "$$ Precision = \\frac{tp}{tp+fp} $$\n",
    "\n",
    "Recall: qual o percentual de acerto de previsão em relação à população (mais próximo de 1, melhor)\n",
    "\n",
    "$$ Recall = \\frac{tp}{tp+fn} $$"
   ]
  },
  {
   "cell_type": "code",
   "execution_count": 15,
   "metadata": {
    "colab": {
     "base_uri": "https://localhost:8080/"
    },
    "id": "5pELJpT7BbRK",
    "outputId": "2a1e0721-2f61-4438-a2f0-f2cc66966dd9"
   },
   "outputs": [
    {
     "name": "stdout",
     "output_type": "stream",
     "text": [
      "              precision    recall  f1-score   support\n",
      "\n",
      "        -1.0       1.00      1.00      1.00       209\n",
      "         0.0       1.00      1.00      1.00         1\n",
      "         1.0       1.00      1.00      1.00       236\n",
      "\n",
      "    accuracy                           1.00       446\n",
      "   macro avg       1.00      1.00      1.00       446\n",
      "weighted avg       1.00      1.00      1.00       446\n",
      "\n"
     ]
    }
   ],
   "source": [
    "print(classification_report(y_test, y_pred));"
   ]
  },
  {
   "cell_type": "markdown",
   "metadata": {
    "id": "b6YfTxqlBbRL"
   },
   "source": [
    "**PARA TUDO!!!**\n",
    "\n",
    "Não tem algo esquisito? O resultado não está incrivelmente bom?\n",
    "Volte lá em cima na geral de sinal de referência e corrija o erro!\n",
    "\n",
    "___\n",
    "\n",
    "Achou e corrigiu? \n",
    "\n",
    "O que você consegue concluir sobre o modelo?\n",
    "\n",
    "### Backtesting\n",
    "\n",
    "Agora já não parece muito bom, mas vamos fazer o backtesting"
   ]
  },
  {
   "cell_type": "code",
   "execution_count": 16,
   "metadata": {
    "id": "2oscwPa4BbRN"
   },
   "outputs": [],
   "source": [
    "class MLClassifier(Strategy):\n",
    "\n",
    "    def __init__(self, *args, **kwargs):\n",
    "        \n",
    "        self.model = args[0]\n",
    "        self.lags = args[1]\n",
    "        \n",
    "        # Inicializando os dicionários\n",
    "        self.prices = []\n",
    "        \n",
    "        self.side = 0\n",
    "        \n",
    "        self.indicator = []\n",
    "        \n",
    "    def receive(self, event):\n",
    "        \n",
    "        orders = []\n",
    "        \n",
    "        self.prices.append(event.price[3])\n",
    "        \n",
    "        if len(self.prices) >= self.lags+1:\n",
    "            \n",
    "            # Montagem\n",
    "            x = [pd.Series(self.prices[-self.lags-1:]).pct_change().dropna()]\n",
    "            signal = self.model.predict(x)[0]\n",
    "            \n",
    "            self.indicator.append(signal)\n",
    "            \n",
    "            # Alocação:\n",
    "            if self.side != signal:\n",
    "                \n",
    "                # Zeragem da posição\n",
    "                if self.side == 1:\n",
    "                    self.submit(self.id, Order(event.instrument, Order.S, self.side, 0))\n",
    "                elif self.side == -1:\n",
    "                    self.submit(self.id, Order(event.instrument, Order.B, self.side, 0))\n",
    "                \n",
    "                # Alocação\n",
    "                if signal == 1:\n",
    "                    self.submit(self.id, Order(event.instrument, Order.B, signal, 0))\n",
    "                else:\n",
    "                    self.submit(self.id, Order(event.instrument, Order.SS, signal, 0))\n",
    "                                    \n",
    "                # Atualiza o sinal\n",
    "                self.side = signal\n",
    "\n",
    "        return orders\n",
    "\n",
    "    def fill(self, id, instrument, price, quantity, status):\n",
    "        # Imprimindo o preenchimento das ordens\n",
    "        #if quantity != 0:\n",
    "            #print(f\"Fill: {id} - {instrument} {quantity}@{price}\")\n",
    "        pass"
   ]
  },
  {
   "cell_type": "code",
   "execution_count": 17,
   "metadata": {
    "colab": {
     "base_uri": "https://localhost:8080/"
    },
    "id": "-3h1iD_PBbRO",
    "outputId": "df235554-cbff-4160-8154-ee73d233a939"
   },
   "outputs": [
    {
     "name": "stdout",
     "output_type": "stream",
     "text": [
      "Gross Profit: $84.26\n",
      "Gross Loss: $-109.93\n",
      "Gross Total: $-25.67\n",
      "\n",
      "Number of trades: 116\n",
      "Hitting Ratio: 44.83%\n",
      "Number of profit trades: 52\n",
      "Number of loss trades: 61\n",
      "Average number of events per trade: 2.11\n",
      "\n",
      "Max win trade: $7.65\n",
      "Avg win trade: $1.62\n",
      "Max loss trade: $-8.55\n",
      "Avg loss trade: $-1.80\n",
      "Avg all trades: $-0.22\n",
      "Win/Loss ratio: 0.90\n",
      "\n",
      "Max Profit: $7.65\n",
      "Max Profit High/Low: $9.03\n",
      "Max Drawdown: $-8.60\n",
      "Max Drawdown High/Low: $-10.34\n",
      "\n",
      "Max Allocation: $116.43\n",
      "Avg Allocation: $104.27\n",
      "Max Cash Required (margin): $116.43\n",
      "\n",
      "Gross Total: $-25.67\n",
      "Total Fees: $23.20\n",
      "Total Taxes: $24.63\n",
      "Net Total: $-73.50\n",
      "\n",
      "Gross Return: -24.01%\n",
      "Average Return: -0.21%\n",
      "Net Return: -70.00%\n",
      "Net Return Avg Alocation: -70.49%\n",
      "\n",
      "Number of days: 252\n",
      "Initial Capital: $10000.00\n",
      "Risk Free Rate: 13.75% yearly/0.0511% daily\n",
      "Total Carry: $1357.33\n",
      "Net Total + Carry: $1283.83\n",
      "Net Return Capital: 12.84%\n",
      "Net Return Capital Yearly: 12.84%\n",
      "\n",
      "\n"
     ]
    }
   ],
   "source": [
    "clas = MLClassifier(clf, 5)\n",
    "    \n",
    "print(evaluateHist(clas, {'BOVA11.SA':'BOVA11.SA-back.csv'}))"
   ]
  },
  {
   "cell_type": "code",
   "execution_count": 18,
   "metadata": {
    "id": "snBl6yo8HIV0"
   },
   "outputs": [],
   "source": [
    "!pip install keras --quiet"
   ]
  },
  {
   "cell_type": "code",
   "execution_count": 19,
   "metadata": {
    "colab": {
     "base_uri": "https://localhost:8080/"
    },
    "id": "trKSTwOPSHRf",
    "outputId": "dabf30c2-84b6-41a4-bfe6-c92b87e3accd"
   },
   "outputs": [],
   "source": [
    "!pip install install tensorflow==2.11 --quiet"
   ]
  },
  {
   "cell_type": "code",
   "execution_count": 20,
   "metadata": {},
   "outputs": [
    {
     "name": "stdout",
     "output_type": "stream",
     "text": [
      "Defaulting to user installation because normal site-packages is not writeable\n",
      "Requirement already satisfied: numpy in /home/antonio/.local/lib/python3.10/site-packages (1.24.2)\n"
     ]
    }
   ],
   "source": [
    "!pip install numpy --upgrade"
   ]
  },
  {
   "cell_type": "markdown",
   "metadata": {
    "id": "2vQmdujeBbRO"
   },
   "source": [
    "Bom, esse era o resultado esperado, ele está com viés de compra, muito devido ao treinamento.\n",
    "\n",
    "___\n",
    "\n",
    "### Modelo 2: Redes Neurais\n",
    "\n",
    "Vamos tentar outro modelo, ainda como classificador.\n",
    "\n",
    "Primeiro a preparação (one hot encoding) da saída"
   ]
  },
  {
   "cell_type": "code",
   "execution_count": 21,
   "metadata": {
    "colab": {
     "base_uri": "https://localhost:8080/"
    },
    "id": "uXKQNoRQBbRP",
    "outputId": "f4c04ff7-f9fc-4c9b-daa2-045d362e2b43"
   },
   "outputs": [
    {
     "name": "stderr",
     "output_type": "stream",
     "text": [
      "2023-04-18 14:18:33.720920: I tensorflow/core/platform/cpu_feature_guard.cc:193] This TensorFlow binary is optimized with oneAPI Deep Neural Network Library (oneDNN) to use the following CPU instructions in performance-critical operations:  AVX2 FMA\n",
      "To enable them in other operations, rebuild TensorFlow with the appropriate compiler flags.\n",
      "2023-04-18 14:18:33.816472: W tensorflow/compiler/xla/stream_executor/platform/default/dso_loader.cc:64] Could not load dynamic library 'libcudart.so.11.0'; dlerror: libcudart.so.11.0: cannot open shared object file: No such file or directory\n",
      "2023-04-18 14:18:33.816486: I tensorflow/compiler/xla/stream_executor/cuda/cudart_stub.cc:29] Ignore above cudart dlerror if you do not have a GPU set up on your machine.\n",
      "2023-04-18 14:18:34.338788: W tensorflow/compiler/xla/stream_executor/platform/default/dso_loader.cc:64] Could not load dynamic library 'libnvinfer.so.7'; dlerror: libnvinfer.so.7: cannot open shared object file: No such file or directory\n",
      "2023-04-18 14:18:34.338849: W tensorflow/compiler/xla/stream_executor/platform/default/dso_loader.cc:64] Could not load dynamic library 'libnvinfer_plugin.so.7'; dlerror: libnvinfer_plugin.so.7: cannot open shared object file: No such file or directory\n",
      "2023-04-18 14:18:34.338855: W tensorflow/compiler/tf2tensorrt/utils/py_utils.cc:38] TF-TRT Warning: Cannot dlopen some TensorRT libraries. If you would like to use Nvidia GPU with TensorRT, please make sure the missing libraries mentioned above are installed properly.\n"
     ]
    },
    {
     "name": "stdout",
     "output_type": "stream",
     "text": [
      "[-1.  0.  1.]\n"
     ]
    }
   ],
   "source": [
    "#from keras.utils import to_categorical\n",
    "from tensorflow.keras.utils import to_categorical\n",
    "num_classes = len(np.unique(y_train))\n",
    "\n",
    "print(np.unique(y_train))\n",
    "\n",
    "y_train_cat = to_categorical(y_train, num_classes)\n",
    "y_test_cat = to_categorical(y_test, num_classes)\n"
   ]
  },
  {
   "cell_type": "markdown",
   "metadata": {
    "id": "NokgHQ6QBbRP"
   },
   "source": [
    "Agora o modelo via Keras"
   ]
  },
  {
   "cell_type": "code",
   "execution_count": 22,
   "metadata": {
    "id": "6zlzbCElBbRP"
   },
   "outputs": [
    {
     "name": "stderr",
     "output_type": "stream",
     "text": [
      "2023-04-18 14:18:41.924323: W tensorflow/compiler/xla/stream_executor/platform/default/dso_loader.cc:64] Could not load dynamic library 'libcuda.so.1'; dlerror: libcuda.so.1: cannot open shared object file: No such file or directory\n",
      "2023-04-18 14:18:41.924338: W tensorflow/compiler/xla/stream_executor/cuda/cuda_driver.cc:265] failed call to cuInit: UNKNOWN ERROR (303)\n",
      "2023-04-18 14:18:41.924371: I tensorflow/compiler/xla/stream_executor/cuda/cuda_diagnostics.cc:156] kernel driver does not appear to be running on this host (antonio): /proc/driver/nvidia/version does not exist\n",
      "2023-04-18 14:18:41.924519: I tensorflow/core/platform/cpu_feature_guard.cc:193] This TensorFlow binary is optimized with oneAPI Deep Neural Network Library (oneDNN) to use the following CPU instructions in performance-critical operations:  AVX2 FMA\n",
      "To enable them in other operations, rebuild TensorFlow with the appropriate compiler flags.\n"
     ]
    }
   ],
   "source": [
    "from keras.models import Sequential\n",
    "from keras.layers import Dense\n",
    "\n",
    "#create model\n",
    "model = Sequential()\n",
    "\n",
    "model.add(Dense(32, kernel_initializer='uniform', activation='relu'))\n",
    "model.add(Dense(64, kernel_initializer='uniform', activation='relu'))\n",
    "model.add(Dense(num_classes, kernel_initializer='uniform', activation='softmax'))\n",
    "\n",
    "model.compile(optimizer='adam', loss='categorical_crossentropy', metrics=['accuracy'])"
   ]
  },
  {
   "cell_type": "code",
   "execution_count": 23,
   "metadata": {
    "colab": {
     "base_uri": "https://localhost:8080/"
    },
    "id": "mgkbA85oBbRQ",
    "outputId": "34d3cbe0-d826-40a7-83f8-73a241abb722"
   },
   "outputs": [
    {
     "name": "stdout",
     "output_type": "stream",
     "text": [
      "Epoch 1/30\n",
      "51/51 [==============================] - 0s 3ms/step - loss: 1.0495 - accuracy: 0.5028 - val_loss: 0.9374 - val_accuracy: 0.5419\n",
      "Epoch 2/30\n",
      "51/51 [==============================] - 0s 866us/step - loss: 0.8348 - accuracy: 0.5172 - val_loss: 0.7229 - val_accuracy: 0.5419\n",
      "Epoch 3/30\n",
      "51/51 [==============================] - 0s 851us/step - loss: 0.7654 - accuracy: 0.5172 - val_loss: 0.7085 - val_accuracy: 0.5419\n",
      "Epoch 4/30\n",
      "51/51 [==============================] - 0s 838us/step - loss: 0.7649 - accuracy: 0.5172 - val_loss: 0.7076 - val_accuracy: 0.5419\n",
      "Epoch 5/30\n",
      "51/51 [==============================] - 0s 843us/step - loss: 0.7630 - accuracy: 0.5172 - val_loss: 0.7043 - val_accuracy: 0.5419\n",
      "Epoch 6/30\n",
      "51/51 [==============================] - 0s 843us/step - loss: 0.7630 - accuracy: 0.5172 - val_loss: 0.7100 - val_accuracy: 0.5810\n",
      "Epoch 7/30\n",
      "51/51 [==============================] - 0s 824us/step - loss: 0.7645 - accuracy: 0.4978 - val_loss: 0.7037 - val_accuracy: 0.5419\n",
      "Epoch 8/30\n",
      "51/51 [==============================] - 0s 835us/step - loss: 0.7625 - accuracy: 0.5172 - val_loss: 0.7035 - val_accuracy: 0.5419\n",
      "Epoch 9/30\n",
      "51/51 [==============================] - 0s 843us/step - loss: 0.7607 - accuracy: 0.5365 - val_loss: 0.6984 - val_accuracy: 0.5419\n",
      "Epoch 10/30\n",
      "51/51 [==============================] - 0s 839us/step - loss: 0.7605 - accuracy: 0.5172 - val_loss: 0.6985 - val_accuracy: 0.5419\n",
      "Epoch 11/30\n",
      "51/51 [==============================] - 0s 852us/step - loss: 0.7595 - accuracy: 0.5172 - val_loss: 0.6927 - val_accuracy: 0.5419\n",
      "Epoch 12/30\n",
      "51/51 [==============================] - 0s 826us/step - loss: 0.7565 - accuracy: 0.5172 - val_loss: 0.6910 - val_accuracy: 0.5419\n",
      "Epoch 13/30\n",
      "51/51 [==============================] - 0s 832us/step - loss: 0.7540 - accuracy: 0.5172 - val_loss: 0.6884 - val_accuracy: 0.5587\n",
      "Epoch 14/30\n",
      "51/51 [==============================] - 0s 828us/step - loss: 0.7502 - accuracy: 0.5172 - val_loss: 0.6828 - val_accuracy: 0.5698\n",
      "Epoch 15/30\n",
      "51/51 [==============================] - 0s 875us/step - loss: 0.7443 - accuracy: 0.5172 - val_loss: 0.6719 - val_accuracy: 0.5754\n",
      "Epoch 16/30\n",
      "51/51 [==============================] - 0s 830us/step - loss: 0.7351 - accuracy: 0.5197 - val_loss: 0.6574 - val_accuracy: 0.5978\n",
      "Epoch 17/30\n",
      "51/51 [==============================] - 0s 824us/step - loss: 0.7229 - accuracy: 0.5745 - val_loss: 0.6373 - val_accuracy: 0.6089\n",
      "Epoch 18/30\n",
      "51/51 [==============================] - 0s 816us/step - loss: 0.7058 - accuracy: 0.5808 - val_loss: 0.6130 - val_accuracy: 0.7207\n",
      "Epoch 19/30\n",
      "51/51 [==============================] - 0s 835us/step - loss: 0.6729 - accuracy: 0.7137 - val_loss: 0.5653 - val_accuracy: 0.8324\n",
      "Epoch 20/30\n",
      "51/51 [==============================] - 0s 839us/step - loss: 0.6206 - accuracy: 0.8079 - val_loss: 0.5007 - val_accuracy: 0.7933\n",
      "Epoch 21/30\n",
      "51/51 [==============================] - 0s 809us/step - loss: 0.5557 - accuracy: 0.8391 - val_loss: 0.4252 - val_accuracy: 0.8939\n",
      "Epoch 22/30\n",
      "51/51 [==============================] - 0s 820us/step - loss: 0.4813 - accuracy: 0.9046 - val_loss: 0.3557 - val_accuracy: 0.9497\n",
      "Epoch 23/30\n",
      "51/51 [==============================] - 0s 823us/step - loss: 0.4177 - accuracy: 0.9226 - val_loss: 0.2978 - val_accuracy: 0.9218\n",
      "Epoch 24/30\n",
      "51/51 [==============================] - 0s 886us/step - loss: 0.3582 - accuracy: 0.9333 - val_loss: 0.2491 - val_accuracy: 0.9385\n",
      "Epoch 25/30\n",
      "51/51 [==============================] - 0s 909us/step - loss: 0.3087 - accuracy: 0.9520 - val_loss: 0.2048 - val_accuracy: 0.9721\n",
      "Epoch 26/30\n",
      "51/51 [==============================] - 0s 886us/step - loss: 0.2693 - accuracy: 0.9595 - val_loss: 0.1728 - val_accuracy: 0.9777\n",
      "Epoch 27/30\n",
      "51/51 [==============================] - 0s 876us/step - loss: 0.2426 - accuracy: 0.9632 - val_loss: 0.1502 - val_accuracy: 0.9777\n",
      "Epoch 28/30\n",
      "51/51 [==============================] - 0s 862us/step - loss: 0.2185 - accuracy: 0.9657 - val_loss: 0.1333 - val_accuracy: 0.9777\n",
      "Epoch 29/30\n",
      "51/51 [==============================] - 0s 821us/step - loss: 0.2010 - accuracy: 0.9663 - val_loss: 0.1171 - val_accuracy: 0.9832\n",
      "Epoch 30/30\n",
      "51/51 [==============================] - 0s 841us/step - loss: 0.1880 - accuracy: 0.9613 - val_loss: 0.1068 - val_accuracy: 0.9944\n"
     ]
    }
   ],
   "source": [
    "result = model.fit(X_train.values, y_train_cat, epochs=30, validation_split=.1);"
   ]
  },
  {
   "cell_type": "code",
   "execution_count": 24,
   "metadata": {
    "colab": {
     "base_uri": "https://localhost:8080/"
    },
    "id": "LBSdLHsOBbRQ",
    "outputId": "6ce7aa2f-1668-45cf-9ed2-709ced031e9b"
   },
   "outputs": [
    {
     "name": "stdout",
     "output_type": "stream",
     "text": [
      "Accuracy: 0.9887892603874207\n"
     ]
    }
   ],
   "source": [
    "loss, acc = model.evaluate(X_test, y_test_cat, verbose=0)\n",
    "\n",
    "print('Accuracy: {}'.format(acc))"
   ]
  },
  {
   "cell_type": "code",
   "execution_count": 25,
   "metadata": {
    "colab": {
     "base_uri": "https://localhost:8080/"
    },
    "id": "XEb67L41BbRQ",
    "outputId": "f0ae6300-8570-4d03-958a-b5deeb698985"
   },
   "outputs": [
    {
     "name": "stdout",
     "output_type": "stream",
     "text": [
      "              precision    recall  f1-score   support\n",
      "\n",
      "           0       0.00      0.00      0.00         1\n",
      "           1       0.99      0.99      0.99       236\n",
      "           2       0.99      0.99      0.99       209\n",
      "\n",
      "    accuracy                           0.99       446\n",
      "   macro avg       0.66      0.66      0.66       446\n",
      "weighted avg       0.99      0.99      0.99       446\n",
      "\n"
     ]
    }
   ],
   "source": [
    "y_pred = np.argmax(model.predict(X_test, verbose = 0), axis=1)\n",
    "\n",
    "print(classification_report(np.argmax(y_test_cat, axis=1), y_pred));"
   ]
  },
  {
   "cell_type": "markdown",
   "metadata": {
    "id": "GYIQzbkCBbRQ"
   },
   "source": [
    "Note que perdemos a ordem das categorias e portanto precisamos entender o que são 0, 1 e 2"
   ]
  },
  {
   "cell_type": "code",
   "execution_count": 26,
   "metadata": {
    "colab": {
     "base_uri": "https://localhost:8080/"
    },
    "id": "k-uWDEh6BbRQ",
    "outputId": "c4a1d96e-8a88-4e16-844b-53a819958fbb"
   },
   "outputs": [
    {
     "name": "stdout",
     "output_type": "stream",
     "text": [
      "[[0. 1. 0.]\n",
      " [0. 1. 0.]\n",
      " [0. 0. 1.]\n",
      " ...\n",
      " [0. 1. 0.]\n",
      " [0. 0. 1.]\n",
      " [0. 0. 1.]]\n",
      "formatted_date\n",
      "2020-06-18    1.0\n",
      "2020-06-19    1.0\n",
      "2020-06-22   -1.0\n",
      "2020-06-23    1.0\n",
      "2020-06-24   -1.0\n",
      "             ... \n",
      "2022-03-30    1.0\n",
      "2022-03-31   -1.0\n",
      "2022-04-01    1.0\n",
      "2022-04-04   -1.0\n",
      "2022-04-05   -1.0\n",
      "Name: sig, Length: 446, dtype: category\n",
      "Categories (3, float64): [-1.0, 0.0, 1.0]\n"
     ]
    }
   ],
   "source": [
    "print(y_test_cat)\n",
    "print(y_test)"
   ]
  },
  {
   "cell_type": "code",
   "execution_count": 27,
   "metadata": {
    "colab": {
     "base_uri": "https://localhost:8080/"
    },
    "id": "gvN04BIvBbRR",
    "outputId": "f7d0524e-e5e5-431b-e6cb-552570246788"
   },
   "outputs": [
    {
     "data": {
      "text/plain": [
       "array([[  0,   0,   0],\n",
       "       [  0,   0,   0],\n",
       "       [  0,   0, 234]])"
      ]
     },
     "execution_count": 27,
     "metadata": {},
     "output_type": "execute_result"
    }
   ],
   "source": [
    "cm = confusion_matrix(np.argmax(y_test_cat, axis=1), y_pred, labels=[-1, 0, 1])\n",
    "\n",
    "cm"
   ]
  },
  {
   "cell_type": "markdown",
   "metadata": {
    "id": "9QMjE7-bBbRR"
   },
   "source": [
    "Novamente o modelo sofre do mesmo problema do primeiro.\n",
    "\n",
    "Vamos montar o backtesting mesmo assim:"
   ]
  },
  {
   "cell_type": "code",
   "execution_count": 28,
   "metadata": {
    "id": "91A818COBbRR"
   },
   "outputs": [],
   "source": [
    "class DLClassifier(Strategy):\n",
    "\n",
    "    def __init__(self, model, lags):\n",
    "        \n",
    "        self.model = model\n",
    "        self.lags = lags\n",
    "        \n",
    "        # Inicializando os dicionários\n",
    "        self.prices = []\n",
    "        \n",
    "        self.side = 0\n",
    "        \n",
    "        self.indicator = []\n",
    "        \n",
    "    def receive(self, event):\n",
    "        \n",
    "        orders = []\n",
    "        \n",
    "        self.prices.append(event.price[3])\n",
    "        \n",
    "        if len(self.prices) >= self.lags+1:\n",
    "            \n",
    "            # Montagem\n",
    "            x = np.array([pd.Series(self.prices[-self.lags-1:]).pct_change().dropna().values])\n",
    "            \n",
    "            signal = np.argmax(self.model.predict(x, verbose = 0), axis=1)[0]\n",
    "\n",
    "            # Mapeamento das categorias de saída\n",
    "            if signal == 2:\n",
    "                signal = -1\n",
    "            \n",
    "            self.indicator.append(signal)\n",
    "            \n",
    "            # Alocação:\n",
    "            if self.side != signal:\n",
    "                \n",
    "                # Zeragem da posição\n",
    "                if self.side == 1:\n",
    "                    self.submit(self.id, Order(event.instrument, Order.S, self.side, 0))\n",
    "                elif self.side == -1:\n",
    "                    self.submit(self.id, Order(event.instrument, Order.B, self.side, 0))\n",
    "                \n",
    "                # Alocação\n",
    "                if signal == 1:\n",
    "                    self.submit(self.id, Order(event.instrument, Order.B, signal, 0))\n",
    "                else:\n",
    "                    self.submit(self.id, Order(event.instrument, Order.SS, signal, 0))\n",
    "                    \n",
    "                # Atualiza o sinal\n",
    "                self.side = signal\n",
    "\n",
    "    def fill(self, id, instrument, price, quantity, status):\n",
    "        # Imprimindo o preenchimento das ordens\n",
    "        #if quantity != 0:\n",
    "            #print(f\"Fill: {id} - {instrument} {quantity}@{price}\")\n",
    "        pass"
   ]
  },
  {
   "cell_type": "code",
   "execution_count": 29,
   "metadata": {
    "colab": {
     "base_uri": "https://localhost:8080/"
    },
    "id": "ZfxZj9UGBbRS",
    "outputId": "ff060da0-0889-4ac7-a25b-52294e210740"
   },
   "outputs": [
    {
     "name": "stdout",
     "output_type": "stream",
     "text": [
      "Gross Profit: $84.70\n",
      "Gross Loss: $-109.93\n",
      "Gross Total: $-25.23\n",
      "\n",
      "Number of trades: 116\n",
      "Hitting Ratio: 44.83%\n",
      "Number of profit trades: 52\n",
      "Number of loss trades: 61\n",
      "Average number of events per trade: 2.12\n",
      "\n",
      "Max win trade: $7.65\n",
      "Avg win trade: $1.63\n",
      "Max loss trade: $-8.55\n",
      "Avg loss trade: $-1.80\n",
      "Avg all trades: $-0.22\n",
      "Win/Loss ratio: 0.90\n",
      "\n",
      "Max Profit: $7.65\n",
      "Max Profit High/Low: $9.03\n",
      "Max Drawdown: $-8.60\n",
      "Max Drawdown High/Low: $-10.34\n",
      "\n",
      "Max Allocation: $116.43\n",
      "Avg Allocation: $104.27\n",
      "Max Cash Required (margin): $116.43\n",
      "\n",
      "Gross Total: $-25.23\n",
      "Total Fees: $23.20\n",
      "Total Taxes: $24.70\n",
      "Net Total: $-73.13\n",
      "\n",
      "Gross Return: -23.57%\n",
      "Average Return: -0.20%\n",
      "Net Return: -69.63%\n",
      "Net Return Avg Alocation: -70.13%\n",
      "\n",
      "Number of days: 252\n",
      "Initial Capital: $10000.00\n",
      "Risk Free Rate: 13.75% yearly/0.0511% daily\n",
      "Total Carry: $1357.31\n",
      "Net Total + Carry: $1284.19\n",
      "Net Return Capital: 12.84%\n",
      "Net Return Capital Yearly: 12.84%\n",
      "\n",
      "\n"
     ]
    }
   ],
   "source": [
    "clas = DLClassifier(model, 5)\n",
    "    \n",
    "print(evaluateHist(clas, {'BOVA11.SA':'BOVA11.SA-back.csv'}))"
   ]
  },
  {
   "cell_type": "markdown",
   "metadata": {
    "id": "rneJJMoTBbRS"
   },
   "source": [
    "Notem que os modelos tiveram sorte com os dados do último ano, onde a série apenas subiu em recuperação.\n",
    "Portanto não podemos confiar cegamente em modelos e backtesting\n",
    "\n",
    "___\n",
    "\n",
    "## Modelo 3: LSTM\n",
    "\n",
    "Vamos seguir o seguinte modelo:\n",
    "\n",
    "https://towardsdatascience.com/lstm-time-series-forecasting-predicting-stock-prices-using-an-lstm-model-6223e9644a2f\n",
    "\n",
    "Para tanto, ele é um regressor e utiliza o preço normalizado na entrada ao invés do retorno.\n",
    "\n",
    "Vamos trabalhar com os dados:"
   ]
  },
  {
   "cell_type": "code",
   "execution_count": 30,
   "metadata": {
    "colab": {
     "base_uri": "https://localhost:8080/",
     "height": 455
    },
    "id": "TuJXublIBbRS",
    "outputId": "c9e4d9ea-9648-435d-f440-1b24d617f491"
   },
   "outputs": [
    {
     "data": {
      "text/html": [
       "<div>\n",
       "<style scoped>\n",
       "    .dataframe tbody tr th:only-of-type {\n",
       "        vertical-align: middle;\n",
       "    }\n",
       "\n",
       "    .dataframe tbody tr th {\n",
       "        vertical-align: top;\n",
       "    }\n",
       "\n",
       "    .dataframe thead th {\n",
       "        text-align: right;\n",
       "    }\n",
       "</style>\n",
       "<table border=\"1\" class=\"dataframe\">\n",
       "  <thead>\n",
       "    <tr style=\"text-align: right;\">\n",
       "      <th></th>\n",
       "      <th>L0</th>\n",
       "      <th>L1</th>\n",
       "      <th>L2</th>\n",
       "      <th>L3</th>\n",
       "      <th>L4</th>\n",
       "      <th>sig</th>\n",
       "    </tr>\n",
       "    <tr>\n",
       "      <th>formatted_date</th>\n",
       "      <th></th>\n",
       "      <th></th>\n",
       "      <th></th>\n",
       "      <th></th>\n",
       "      <th></th>\n",
       "      <th></th>\n",
       "    </tr>\n",
       "  </thead>\n",
       "  <tbody>\n",
       "    <tr>\n",
       "      <th>2013-04-10</th>\n",
       "      <td>55.009998</td>\n",
       "      <td>NaN</td>\n",
       "      <td>NaN</td>\n",
       "      <td>NaN</td>\n",
       "      <td>NaN</td>\n",
       "      <td>54.150002</td>\n",
       "    </tr>\n",
       "    <tr>\n",
       "      <th>2013-04-11</th>\n",
       "      <td>54.150002</td>\n",
       "      <td>55.009998</td>\n",
       "      <td>NaN</td>\n",
       "      <td>NaN</td>\n",
       "      <td>NaN</td>\n",
       "      <td>53.730000</td>\n",
       "    </tr>\n",
       "    <tr>\n",
       "      <th>2013-04-12</th>\n",
       "      <td>53.730000</td>\n",
       "      <td>54.150002</td>\n",
       "      <td>55.009998</td>\n",
       "      <td>NaN</td>\n",
       "      <td>NaN</td>\n",
       "      <td>51.950001</td>\n",
       "    </tr>\n",
       "    <tr>\n",
       "      <th>2013-04-15</th>\n",
       "      <td>51.950001</td>\n",
       "      <td>53.730000</td>\n",
       "      <td>54.150002</td>\n",
       "      <td>55.009998</td>\n",
       "      <td>NaN</td>\n",
       "      <td>52.869999</td>\n",
       "    </tr>\n",
       "    <tr>\n",
       "      <th>2013-04-16</th>\n",
       "      <td>52.869999</td>\n",
       "      <td>51.950001</td>\n",
       "      <td>53.730000</td>\n",
       "      <td>54.150002</td>\n",
       "      <td>55.009998</td>\n",
       "      <td>51.820000</td>\n",
       "    </tr>\n",
       "    <tr>\n",
       "      <th>...</th>\n",
       "      <td>...</td>\n",
       "      <td>...</td>\n",
       "      <td>...</td>\n",
       "      <td>...</td>\n",
       "      <td>...</td>\n",
       "      <td>...</td>\n",
       "    </tr>\n",
       "    <tr>\n",
       "      <th>2022-03-30</th>\n",
       "      <td>115.900002</td>\n",
       "      <td>115.750000</td>\n",
       "      <td>114.510002</td>\n",
       "      <td>114.750000</td>\n",
       "      <td>114.739998</td>\n",
       "      <td>115.599998</td>\n",
       "    </tr>\n",
       "    <tr>\n",
       "      <th>2022-03-31</th>\n",
       "      <td>115.599998</td>\n",
       "      <td>115.900002</td>\n",
       "      <td>115.750000</td>\n",
       "      <td>114.510002</td>\n",
       "      <td>114.750000</td>\n",
       "      <td>117.199997</td>\n",
       "    </tr>\n",
       "    <tr>\n",
       "      <th>2022-04-01</th>\n",
       "      <td>117.199997</td>\n",
       "      <td>115.599998</td>\n",
       "      <td>115.900002</td>\n",
       "      <td>115.750000</td>\n",
       "      <td>114.510002</td>\n",
       "      <td>116.800003</td>\n",
       "    </tr>\n",
       "    <tr>\n",
       "      <th>2022-04-04</th>\n",
       "      <td>116.800003</td>\n",
       "      <td>117.199997</td>\n",
       "      <td>115.599998</td>\n",
       "      <td>115.900002</td>\n",
       "      <td>115.750000</td>\n",
       "      <td>114.510002</td>\n",
       "    </tr>\n",
       "    <tr>\n",
       "      <th>2022-04-05</th>\n",
       "      <td>114.510002</td>\n",
       "      <td>116.800003</td>\n",
       "      <td>117.199997</td>\n",
       "      <td>115.599998</td>\n",
       "      <td>115.900002</td>\n",
       "      <td>NaN</td>\n",
       "    </tr>\n",
       "  </tbody>\n",
       "</table>\n",
       "<p>2233 rows × 6 columns</p>\n",
       "</div>"
      ],
      "text/plain": [
       "                        L0          L1          L2          L3          L4  \\\n",
       "formatted_date                                                               \n",
       "2013-04-10       55.009998         NaN         NaN         NaN         NaN   \n",
       "2013-04-11       54.150002   55.009998         NaN         NaN         NaN   \n",
       "2013-04-12       53.730000   54.150002   55.009998         NaN         NaN   \n",
       "2013-04-15       51.950001   53.730000   54.150002   55.009998         NaN   \n",
       "2013-04-16       52.869999   51.950001   53.730000   54.150002   55.009998   \n",
       "...                    ...         ...         ...         ...         ...   \n",
       "2022-03-30      115.900002  115.750000  114.510002  114.750000  114.739998   \n",
       "2022-03-31      115.599998  115.900002  115.750000  114.510002  114.750000   \n",
       "2022-04-01      117.199997  115.599998  115.900002  115.750000  114.510002   \n",
       "2022-04-04      116.800003  117.199997  115.599998  115.900002  115.750000   \n",
       "2022-04-05      114.510002  116.800003  117.199997  115.599998  115.900002   \n",
       "\n",
       "                       sig  \n",
       "formatted_date              \n",
       "2013-04-10       54.150002  \n",
       "2013-04-11       53.730000  \n",
       "2013-04-12       51.950001  \n",
       "2013-04-15       52.869999  \n",
       "2013-04-16       51.820000  \n",
       "...                    ...  \n",
       "2022-03-30      115.599998  \n",
       "2022-03-31      117.199997  \n",
       "2022-04-01      116.800003  \n",
       "2022-04-04      114.510002  \n",
       "2022-04-05             NaN  \n",
       "\n",
       "[2233 rows x 6 columns]"
      ]
     },
     "execution_count": 30,
     "metadata": {},
     "output_type": "execute_result"
    }
   ],
   "source": [
    "df = pd.DataFrame()\n",
    "for ticker in tickers:\n",
    "    df = pd.read_csv('{}-train.csv'.format(ticker))\n",
    "\n",
    "df = df.set_index('formatted_date')\n",
    "df = df.drop('adjclose', axis=1).dropna()\n",
    "\n",
    "ret = pd.DataFrame({'L0': df['close']})\n",
    "w = 5\n",
    "for i in range(w):\n",
    "    ret['L{}'.format(i)] = ret['L0'].shift(i)\n",
    "\n",
    "ret['sig'] = ret['L0'].shift(-1)\n",
    "ret"
   ]
  },
  {
   "cell_type": "code",
   "execution_count": 31,
   "metadata": {
    "id": "2NUc6HthBbRS"
   },
   "outputs": [],
   "source": [
    "from sklearn.preprocessing import MinMaxScaler\n",
    "\n",
    "ret = ret.dropna()\n",
    "sig = ret['sig']\n",
    "\n",
    "sc = MinMaxScaler(feature_range = (0, 1))\n",
    "#sc = sc.fit(sig.values.reshape(-1, 1))\n"
   ]
  },
  {
   "cell_type": "code",
   "execution_count": 32,
   "metadata": {
    "colab": {
     "base_uri": "https://localhost:8080/"
    },
    "id": "WkMoHUWtKLfa",
    "outputId": "3f188428-3c71-49d0-8712-ea53b01f4bc4"
   },
   "outputs": [
    {
     "data": {
      "text/plain": [
       "formatted_date\n",
       "2013-04-16     51.820000\n",
       "2013-04-17     52.040001\n",
       "2013-04-18     52.730000\n",
       "2013-04-19     53.160000\n",
       "2013-04-22     53.689999\n",
       "                 ...    \n",
       "2022-03-29    115.900002\n",
       "2022-03-30    115.599998\n",
       "2022-03-31    117.199997\n",
       "2022-04-01    116.800003\n",
       "2022-04-04    114.510002\n",
       "Name: sig, Length: 2228, dtype: float64"
      ]
     },
     "execution_count": 32,
     "metadata": {},
     "output_type": "execute_result"
    }
   ],
   "source": [
    "sig"
   ]
  },
  {
   "cell_type": "code",
   "execution_count": 33,
   "metadata": {
    "colab": {
     "base_uri": "https://localhost:8080/"
    },
    "id": "M-Xi54ZzJqjv",
    "outputId": "0547c85a-ff5d-424a-eff5-19185de14427"
   },
   "outputs": [
    {
     "data": {
      "text/plain": [
       "array([[ 52.86999893,  51.95000076,  53.72999954,  54.15000153,\n",
       "         55.00999832,  51.81999969],\n",
       "       [ 51.81999969,  52.86999893,  51.95000076,  53.72999954,\n",
       "         54.15000153,  52.04000092],\n",
       "       [ 52.04000092,  51.81999969,  52.86999893,  51.95000076,\n",
       "         53.72999954,  52.72999954],\n",
       "       ...,\n",
       "       [115.59999847, 115.90000153, 115.75      , 114.51000214,\n",
       "        114.75      , 117.19999695],\n",
       "       [117.19999695, 115.59999847, 115.90000153, 115.75      ,\n",
       "        114.51000214, 116.80000305],\n",
       "       [116.80000305, 117.19999695, 115.59999847, 115.90000153,\n",
       "        115.75      , 114.51000214]])"
      ]
     },
     "execution_count": 33,
     "metadata": {},
     "output_type": "execute_result"
    }
   ],
   "source": [
    "ret.values"
   ]
  },
  {
   "cell_type": "markdown",
   "metadata": {
    "id": "_r4zUm3WBbRT"
   },
   "source": [
    "Normalizando os dados:"
   ]
  },
  {
   "cell_type": "code",
   "execution_count": 34,
   "metadata": {
    "colab": {
     "base_uri": "https://localhost:8080/"
    },
    "id": "4EPC93wcBbRT",
    "outputId": "84ff4357-920b-415c-c6ed-dc902ccddab0"
   },
   "outputs": [
    {
     "name": "stdout",
     "output_type": "stream",
     "text": [
      "1.0\n",
      "0.0\n"
     ]
    }
   ],
   "source": [
    "#sig = ret[:, w]\n",
    "ret_x = ret.iloc[:,:w]\n",
    "\n",
    "ret_scaled = sc.fit_transform(ret_x.dropna())\n",
    "print(np.max(ret_scaled))\n",
    "print(np.min(ret_scaled))"
   ]
  },
  {
   "cell_type": "code",
   "execution_count": 35,
   "metadata": {
    "id": "YRogBK8gBbRT"
   },
   "outputs": [],
   "source": [
    "from sklearn.model_selection import train_test_split\n",
    "\n",
    "X_train, X_test, y_train, y_test = train_test_split(ret_scaled, sig, test_size=0.20, shuffle=False)\n"
   ]
  },
  {
   "cell_type": "code",
   "execution_count": 36,
   "metadata": {
    "id": "ug_qZ-wUBbRT"
   },
   "outputs": [],
   "source": [
    "X_train_lstm = np.reshape(X_train, (X_train.shape[0], X_train.shape[1], 1))\n",
    "X_test_lstm = np.reshape(X_test, (X_test.shape[0], X_test.shape[1], 1))"
   ]
  },
  {
   "cell_type": "markdown",
   "metadata": {
    "id": "swmTOnFVBbRT"
   },
   "source": [
    "Agora sim o modelo:\n",
    "\n",
    "LSTM é um modelo que retém informação temporal, mas por outro lado, dependendo da topologia ele pode ter uma defasagem na série, o que é muito ruim para janela de previsão de 1 dia."
   ]
  },
  {
   "cell_type": "code",
   "execution_count": 37,
   "metadata": {
    "colab": {
     "base_uri": "https://localhost:8080/"
    },
    "id": "juxX72doBbRU",
    "outputId": "e254c9a4-9be5-44eb-b3de-a05fded88ccc"
   },
   "outputs": [
    {
     "name": "stdout",
     "output_type": "stream",
     "text": [
      "Epoch 1/30\n",
      "56/56 [==============================] - 4s 6ms/step - loss: 2740.8691 - rmse: 52.3533\n",
      "Epoch 2/30\n",
      "56/56 [==============================] - 0s 6ms/step - loss: 379.1882 - rmse: 19.4728\n",
      "Epoch 3/30\n",
      "56/56 [==============================] - 0s 5ms/step - loss: 374.4711 - rmse: 19.3513\n",
      "Epoch 4/30\n",
      "56/56 [==============================] - 2s 42ms/step - loss: 374.4857 - rmse: 19.3516\n",
      "Epoch 5/30\n",
      "56/56 [==============================] - 0s 7ms/step - loss: 367.6175 - rmse: 19.1734\n",
      "Epoch 6/30\n",
      "56/56 [==============================] - 0s 7ms/step - loss: 365.3792 - rmse: 19.1149\n",
      "Epoch 7/30\n",
      "56/56 [==============================] - 0s 7ms/step - loss: 157.0237 - rmse: 12.5309\n",
      "Epoch 8/30\n",
      "56/56 [==============================] - 0s 8ms/step - loss: 35.9561 - rmse: 5.9963\n",
      "Epoch 9/30\n",
      "56/56 [==============================] - 0s 7ms/step - loss: 30.2649 - rmse: 5.5014\n",
      "Epoch 10/30\n",
      "56/56 [==============================] - 0s 7ms/step - loss: 33.3318 - rmse: 5.7734\n",
      "Epoch 11/30\n",
      "56/56 [==============================] - 0s 7ms/step - loss: 30.9437 - rmse: 5.5627\n",
      "Epoch 12/30\n",
      "56/56 [==============================] - 0s 7ms/step - loss: 27.7047 - rmse: 5.2635\n",
      "Epoch 13/30\n",
      "56/56 [==============================] - 0s 7ms/step - loss: 29.4139 - rmse: 5.4235\n",
      "Epoch 14/30\n",
      "56/56 [==============================] - 0s 7ms/step - loss: 29.4317 - rmse: 5.4251\n",
      "Epoch 15/30\n",
      "56/56 [==============================] - 0s 7ms/step - loss: 27.2222 - rmse: 5.2175\n",
      "Epoch 16/30\n",
      "56/56 [==============================] - 0s 7ms/step - loss: 28.6533 - rmse: 5.3529\n",
      "Epoch 17/30\n",
      "56/56 [==============================] - 0s 7ms/step - loss: 26.2420 - rmse: 5.1227\n",
      "Epoch 18/30\n",
      "56/56 [==============================] - 0s 7ms/step - loss: 27.2213 - rmse: 5.2174\n",
      "Epoch 19/30\n",
      "56/56 [==============================] - 0s 7ms/step - loss: 28.7089 - rmse: 5.3581\n",
      "Epoch 20/30\n",
      "56/56 [==============================] - 0s 7ms/step - loss: 27.9793 - rmse: 5.2895\n",
      "Epoch 21/30\n",
      "56/56 [==============================] - 0s 7ms/step - loss: 26.5650 - rmse: 5.1541\n",
      "Epoch 22/30\n",
      "56/56 [==============================] - 0s 8ms/step - loss: 27.2023 - rmse: 5.2156\n",
      "Epoch 23/30\n",
      "56/56 [==============================] - 0s 7ms/step - loss: 27.9586 - rmse: 5.2876\n",
      "Epoch 24/30\n",
      "56/56 [==============================] - 0s 8ms/step - loss: 25.2105 - rmse: 5.0210\n",
      "Epoch 25/30\n",
      "56/56 [==============================] - 0s 8ms/step - loss: 25.8700 - rmse: 5.0863\n",
      "Epoch 26/30\n",
      "56/56 [==============================] - 0s 8ms/step - loss: 24.5176 - rmse: 4.9515\n",
      "Epoch 27/30\n",
      "56/56 [==============================] - 0s 8ms/step - loss: 26.2613 - rmse: 5.1246\n",
      "Epoch 28/30\n",
      "56/56 [==============================] - 0s 8ms/step - loss: 25.0288 - rmse: 5.0029\n",
      "Epoch 29/30\n",
      "56/56 [==============================] - 0s 8ms/step - loss: 25.4747 - rmse: 5.0472\n",
      "Epoch 30/30\n",
      "56/56 [==============================] - 0s 7ms/step - loss: 24.4996 - rmse: 4.9497\n"
     ]
    }
   ],
   "source": [
    "from keras.layers import LSTM\n",
    "from keras.layers import Dropout\n",
    "from keras.metrics import RootMeanSquaredError, mean_squared_error\n",
    "\n",
    "model = Sequential()\n",
    "model.add(LSTM(units = 50, return_sequences = True, input_shape = (X_train_lstm.shape[1], 1)))\n",
    "model.add(Dropout(0.2))\n",
    "model.add(LSTM(units = 50, return_sequences = True))\n",
    "model.add(Dropout(0.2))\n",
    "model.add(LSTM(units = 50, return_sequences = True))\n",
    "model.add(Dropout(0.2))\n",
    "model.add(LSTM(units = 50))\n",
    "model.add(Dropout(0.2))\n",
    "model.add(Dense(units = 100))\n",
    "model.add(Dense(units = 1))\n",
    "\n",
    "# Compiling the RNN\n",
    "model.compile(optimizer = 'adam', loss=mean_squared_error,\n",
    "              metrics=[RootMeanSquaredError(name='rmse')])\n",
    "\n",
    "# Fitting the RNN to the Training set\n",
    "model.fit(X_train_lstm, y_train, epochs = 30, batch_size = 32);"
   ]
  },
  {
   "cell_type": "markdown",
   "metadata": {
    "id": "e80TVjCHBbRU"
   },
   "source": [
    "Verificando o ajuste:"
   ]
  },
  {
   "cell_type": "code",
   "execution_count": 38,
   "metadata": {
    "colab": {
     "base_uri": "https://localhost:8080/",
     "height": 265
    },
    "id": "KWJkbu8ZBbRU",
    "outputId": "921d24cc-da6a-4e44-fd1a-89794a5f5476"
   },
   "outputs": [
    {
     "name": "stdout",
     "output_type": "stream",
     "text": [
      "14/14 [==============================] - 1s 2ms/step\n"
     ]
    },
    {
     "data": {
      "image/png": "[encoded data removed]",
      "text/plain": [
       "<Figure size 640x480 with 1 Axes>"
      ]
     },
     "metadata": {},
     "output_type": "display_data"
    }
   ],
   "source": [
    "y_pred = model.predict(X_test_lstm)\n",
    "\n",
    "plt.plot(y_test, label='real');\n",
    "plt.plot(y_pred, label='predito');\n",
    "plt.legend();\n"
   ]
  },
  {
   "cell_type": "markdown",
   "metadata": {
    "id": "K4L76fjRBbRU"
   },
   "source": [
    "Alguns otimistas podem dizer que o modelo foi satisfatório porque não divergiu. Contudo, inspeções visuais (gráficos) podem levar a enganos e para realmente analisar a performance com dados novos é necessário o backtesting:"
   ]
  },
  {
   "cell_type": "code",
   "execution_count": 39,
   "metadata": {
    "id": "vgBtuvGcBbRU"
   },
   "outputs": [],
   "source": [
    "class DLClassifier(Strategy):\n",
    "\n",
    "    def __init__(self, model, lags, scaler):\n",
    "        \n",
    "        self.model = model\n",
    "        self.lags = lags\n",
    "        self.scaler = scaler\n",
    "        \n",
    "        # Inicializando os dicionários\n",
    "        self.prices = []\n",
    "        \n",
    "        self.side = 0\n",
    "        \n",
    "        self.indicator = []\n",
    "        \n",
    "    def receive(self, event):\n",
    "        \n",
    "        orders = []\n",
    "        \n",
    "        self.prices.append(event.price[3])\n",
    "        \n",
    "        if len(self.prices) >= self.lags+1:\n",
    "            \n",
    "            # Montagem\n",
    "            x = np.array([pd.Series(self.prices[-self.lags:]).dropna().values])\n",
    "            x = self.scaler.transform(x)\n",
    "            x = np.reshape(x, (x.shape[0], x.shape[1], 1))\n",
    "            \n",
    "            price = self.model.predict(x, verbose = 0)[0][0]\n",
    "\n",
    "            if price > event.price[3]:\n",
    "                signal = 1\n",
    "            elif price < event.price[3]:\n",
    "                signal = -1\n",
    "            else:\n",
    "                signal = 0\n",
    "            \n",
    "            self.indicator.append(signal)\n",
    "            \n",
    "            # Alocação:\n",
    "            if self.side != signal:\n",
    "                \n",
    "                # Zeragem da posição\n",
    "                if self.side == 1:\n",
    "                    self.submit(self.id, Order(event.instrument, Order.S, self.side, 0))\n",
    "                elif self.side == -1:\n",
    "                    self.submit(self.id, Order(event.instrument, Order.B, self.side, 0))\n",
    "                \n",
    "                # Alocação\n",
    "                if signal == 1:\n",
    "                    self.submit(self.id, Order(event.instrument, Order.B, signal, 0))\n",
    "                else:\n",
    "                    self.submit(self.id, Order(event.instrument, Order.SS, signal, 0))\n",
    "                    \n",
    "                # Atualiza o sinal\n",
    "                self.side = signal\n",
    "\n",
    "    def fill(self, id, instrument, price, quantity, status):\n",
    "        # Imprimindo o preenchimento das ordens\n",
    "        #if quantity != 0:\n",
    "            #print(f\"Fill: {id} - {instrument} {quantity}@{price}\")\n",
    "        pass"
   ]
  },
  {
   "cell_type": "code",
   "execution_count": 40,
   "metadata": {
    "colab": {
     "base_uri": "https://localhost:8080/"
    },
    "id": "8OmqyYAWBbRV",
    "outputId": "ac32a548-74e2-4b15-b556-af92c65db775"
   },
   "outputs": [
    {
     "name": "stdout",
     "output_type": "stream",
     "text": [
      "Gross Profit: $69.61\n",
      "Gross Loss: $-44.72\n",
      "Gross Total: $24.89\n",
      "\n",
      "Number of trades: 60\n",
      "Hitting Ratio: 66.67%\n",
      "Number of profit trades: 40\n",
      "Number of loss trades: 20\n",
      "Average number of events per trade: 4.10\n",
      "\n",
      "Max win trade: $4.55\n",
      "Avg win trade: $1.74\n",
      "Max loss trade: $-9.07\n",
      "Avg loss trade: $-2.24\n",
      "Avg all trades: $0.41\n",
      "Win/Loss ratio: 0.78\n",
      "\n",
      "Max Profit: $4.55\n",
      "Max Profit High/Low: $4.75\n",
      "Max Drawdown: $-11.76\n",
      "Max Drawdown High/Low: $-12.04\n",
      "\n",
      "Max Allocation: $113.00\n",
      "Avg Allocation: $105.06\n",
      "Max Cash Required (margin): $113.00\n",
      "\n",
      "Gross Total: $24.89\n",
      "Total Fees: $12.00\n",
      "Total Taxes: $16.68\n",
      "Net Total: $-3.79\n",
      "\n",
      "Gross Return: 23.83%\n",
      "Average Return: 0.40%\n",
      "Net Return: -3.47%\n",
      "Net Return Avg Alocation: -3.61%\n",
      "\n",
      "Number of days: 252\n",
      "Initial Capital: $10000.00\n",
      "Risk Free Rate: 13.75% yearly/0.0511% daily\n",
      "Total Carry: $1360.47\n",
      "Net Total + Carry: $1356.68\n",
      "Net Return Capital: 13.57%\n",
      "Net Return Capital Yearly: 13.57%\n",
      "\n",
      "\n"
     ]
    }
   ],
   "source": [
    "clas = DLClassifier(model, 5, sc)\n",
    "    \n",
    "print(evaluateHist(clas, {'BOVA11.SA':'BOVA11.SA-back.csv'}))"
   ]
  },
  {
   "cell_type": "markdown",
   "metadata": {
    "id": "nLaLDh6cBbRV"
   },
   "source": [
    "Não parece bom, apesar do gráfico. A defasagem da série está levando a predição a ficar sempre atrasada.\n",
    "\n",
    "Volte ao modelo, vamos fazer alguns ajustes:\n",
    "\n",
    "1. Remover duas camadas de LSTM e os dropouts\n",
    "2. Adicionar uma Dense antes da última camada\n",
    "\n",
    "Vamos tentar não atrasar muito o sinal e trazer algum aprendizado extra na saída da LSTM.\n",
    "\n",
    "Refaça o backtesting e analise o resultado.\n",
    "\n",
    "___\n",
    "\n",
    "TGF:\n",
    "\n",
    "* Triple Barrier Classification\n",
    "* Outras topologias\n",
    "* Análise de Overfitting e Regularization\n",
    "* Crossvalidation\n",
    "* Continuos Training"
   ]
  },
  {
   "cell_type": "code",
   "execution_count": null,
   "metadata": {
    "id": "O72TYGSAgg6O"
   },
   "outputs": [],
   "source": []
  }
 ],
 "metadata": {
  "colab": {
   "name": "Aula11_fixed.ipynb",
   "provenance": []
  },
  "kernelspec": {
   "display_name": "Python 3 (ipykernel)",
   "language": "python",
   "name": "python3"
  },
  "language_info": {
   "codemirror_mode": {
    "name": "ipython",
    "version": 3
   },
   "file_extension": ".py",
   "mimetype": "text/x-python",
   "name": "python",
   "nbconvert_exporter": "python",
   "pygments_lexer": "ipython3",
   "version": "3.10.6"
  }
 },
 "nbformat": 4,
 "nbformat_minor": 1
}
